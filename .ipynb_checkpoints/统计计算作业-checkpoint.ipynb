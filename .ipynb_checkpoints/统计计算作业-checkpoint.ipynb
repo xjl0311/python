{
 "cells": [
  {
   "cell_type": "code",
   "execution_count": 1,
   "id": "7be15c4e",
   "metadata": {
    "ExecuteTime": {
     "end_time": "2022-01-08T15:02:56.698892Z",
     "start_time": "2022-01-08T15:02:56.423581Z"
    }
   },
   "outputs": [],
   "source": [
    "import numpy as np\n",
    "import time\n",
    "import matplotlib.pyplot as plt"
   ]
  },
  {
   "cell_type": "markdown",
   "id": "1a0f27aa",
   "metadata": {},
   "source": [
    "# 第二章 第21题\n",
    "给出生成密度函数为：\n",
    "$$p(x)=xe^{-x},x>0$$\n",
    "的随机数的两种方法并比较效率"
   ]
  },
  {
   "cell_type": "code",
   "execution_count": 2,
   "id": "fcb8d0de",
   "metadata": {
    "ExecuteTime": {
     "end_time": "2022-01-08T15:02:56.871613Z",
     "start_time": "2022-01-08T15:02:56.701838Z"
    }
   },
   "outputs": [
    {
     "data": {
      "image/png": "[encoded data removed]",
      "text/plain": [
       "<Figure size 432x288 with 1 Axes>"
      ]
     },
     "metadata": {
      "needs_background": "light"
     },
     "output_type": "display_data"
    }
   ],
   "source": [
    "\"\"\"该密度函数在0-10的形状\"\"\"\n",
    "x = np.arange(0, 10, 0.1)\n",
    "p = x * np.exp(-x)\n",
    "plt.plot(x, p,'o-')\n",
    "plt.xlabel('x')\n",
    "plt.ylabel('p(x)')\n",
    "plt.grid(True)#显示轴网格线"
   ]
  },
  {
   "cell_type": "markdown",
   "id": "b98a27a5",
   "metadata": {},
   "source": [
    "## 第一种方法：逆变换法"
   ]
  },
  {
   "cell_type": "code",
   "execution_count": 3,
   "id": "5f9e43c5",
   "metadata": {
    "ExecuteTime": {
     "end_time": "2022-01-08T15:02:56.887504Z",
     "start_time": "2022-01-08T15:02:56.873371Z"
    }
   },
   "outputs": [
    {
     "data": {
      "text/plain": [
       "(array([1.68524552, 4.26990381, 4.76987237, ..., 3.04864918, 1.1072809 ,\n",
       "        2.91822361]),\n",
       " 0.003991365432739258)"
      ]
     },
     "execution_count": 3,
     "metadata": {},
     "output_type": "execute_result"
    }
   ],
   "source": [
    "'''\n",
    "通过构造2个指数分布的随机数来合成gamma分布：\n",
    "    通过逆变换法生成指数分布随机数\n",
    "'''\n",
    "def rand_gamma_1(num):\n",
    "    start_time = time.time()\n",
    "    U_1 = np.random.rand(num)\n",
    "    U_2 = np.random.rand(num)\n",
    "    rand_gamma_1 = - np.log(U_1 * U_2)\n",
    "    end_time = time.time()\n",
    "    gamma_time_1 = end_time - start_time\n",
    "    \n",
    "    return rand_gamma_1, gamma_time_1\n",
    "\n",
    "rand_gamma_1(100000) # 生成100000个gamma分布随机数，耗时0.003988981246948242"
   ]
  },
  {
   "cell_type": "code",
   "execution_count": 4,
   "id": "9d16f528",
   "metadata": {
    "ExecuteTime": {
     "end_time": "2022-01-08T15:02:57.077381Z",
     "start_time": "2022-01-08T15:02:56.888829Z"
    }
   },
   "outputs": [
    {
     "data": {
      "text/plain": [
       "(array([[1.156e+03, 2.142e+03, 1.934e+03, 1.567e+03, 1.135e+03, 7.630e+02,\n",
       "         5.000e+02, 3.050e+02, 1.880e+02, 1.220e+02, 6.600e+01, 5.000e+01,\n",
       "         3.000e+01, 2.000e+01, 7.000e+00, 8.000e+00, 0.000e+00, 3.000e+00,\n",
       "         1.000e+00, 3.000e+00],\n",
       "        [1.000e+00, 0.000e+00, 0.000e+00, 0.000e+00, 0.000e+00, 0.000e+00,\n",
       "         0.000e+00, 0.000e+00, 0.000e+00, 0.000e+00, 0.000e+00, 0.000e+00,\n",
       "         0.000e+00, 0.000e+00, 0.000e+00, 0.000e+00, 0.000e+00, 0.000e+00,\n",
       "         0.000e+00, 0.000e+00]]),\n",
       " array([1.09863281e-03, 5.85317966e-01, 1.16953730e+00, 1.75375663e+00,\n",
       "        2.33797596e+00, 2.92219530e+00, 3.50641463e+00, 4.09063396e+00,\n",
       "        4.67485330e+00, 5.25907263e+00, 5.84329196e+00, 6.42751129e+00,\n",
       "        7.01173063e+00, 7.59594996e+00, 8.18016929e+00, 8.76438862e+00,\n",
       "        9.34860796e+00, 9.93282729e+00, 1.05170466e+01, 1.11012660e+01,\n",
       "        1.16854853e+01]),\n",
       " <a list of 2 BarContainer objects>)"
      ]
     },
     "execution_count": 4,
     "metadata": {},
     "output_type": "execute_result"
    },
    {
     "data": {
      "image/png": "[encoded data removed]",
      "text/plain": [
       "<Figure size 432x288 with 1 Axes>"
      ]
     },
     "metadata": {
      "needs_background": "light"
     },
     "output_type": "display_data"
    }
   ],
   "source": [
    "pillar = 20\n",
    "rand_1 = rand_gamma_1(10000)\n",
    "plt.hist(rand_1,bins = pillar)"
   ]
  },
  {
   "cell_type": "markdown",
   "id": "b67ecac1",
   "metadata": {},
   "source": [
    "## 第二种方法：舍选法Ⅱ"
   ]
  },
  {
   "cell_type": "code",
   "execution_count": 5,
   "id": "b143453e",
   "metadata": {
    "ExecuteTime": {
     "end_time": "2022-01-08T15:03:00.383928Z",
     "start_time": "2022-01-08T15:02:57.079329Z"
    },
    "scrolled": true
   },
   "outputs": [
    {
     "data": {
      "text/plain": [
       "(array([0.41879048, 2.40331226, 2.89389335, ..., 1.0933189 , 2.27821889,\n",
       "        1.44476629]),\n",
       " 3.2949016094207764)"
      ]
     },
     "execution_count": 5,
     "metadata": {},
     "output_type": "execute_result"
    }
   ],
   "source": [
    "'''\n",
    "生成两组均匀分布的随机数，一组用于判断，一组用于生成随机数\n",
    "'''\n",
    "def rand_gamma_2(num):\n",
    "    start_time = time.time()\n",
    "    rand_gamma_2 = np.array([])\n",
    "    for i in range(num):\n",
    "        Y = 1\n",
    "        v = 0\n",
    "        while(Y > v):\n",
    "            U_1 = np.random.rand()\n",
    "            U_2 = np.random.rand()\n",
    "            X = -2 * np.log(U_1)\n",
    "            Y = U_2\n",
    "            v = (2 * X * np.exp(- X / 2)) / ( 4 * np.exp(-1))\n",
    "        rand_gamma_2 = np.append(rand_gamma_2, X)\n",
    "    end_time = time.time()\n",
    "    gamma_2_time = end_time - start_time\n",
    "    return rand_gamma_2, gamma_2_time\n",
    "\n",
    "rand_gamma_2(100000) # 生成100000个gamma分布随机数，耗时3.358640670776367"
   ]
  },
  {
   "cell_type": "code",
   "execution_count": 6,
   "id": "7cadbe70",
   "metadata": {
    "ExecuteTime": {
     "end_time": "2022-01-08T15:03:00.733091Z",
     "start_time": "2022-01-08T15:03:00.384841Z"
    }
   },
   "outputs": [
    {
     "data": {
      "text/plain": [
       "(array([[1.325e+03, 2.206e+03, 1.938e+03, 1.552e+03, 1.063e+03, 7.240e+02,\n",
       "         4.450e+02, 2.800e+02, 1.900e+02, 1.150e+02, 7.100e+01, 4.200e+01,\n",
       "         2.200e+01, 1.000e+01, 6.000e+00, 3.000e+00, 3.000e+00, 3.000e+00,\n",
       "         0.000e+00, 2.000e+00],\n",
       "        [1.000e+00, 0.000e+00, 0.000e+00, 0.000e+00, 0.000e+00, 0.000e+00,\n",
       "         0.000e+00, 0.000e+00, 0.000e+00, 0.000e+00, 0.000e+00, 0.000e+00,\n",
       "         0.000e+00, 0.000e+00, 0.000e+00, 0.000e+00, 0.000e+00, 0.000e+00,\n",
       "         0.000e+00, 0.000e+00]]),\n",
       " array([ 0.0178972 ,  0.62950588,  1.24111456,  1.85272324,  2.46433191,\n",
       "         3.07594059,  3.68754927,  4.29915795,  4.91076663,  5.52237531,\n",
       "         6.13398398,  6.74559266,  7.35720134,  7.96881002,  8.5804187 ,\n",
       "         9.19202738,  9.80363605, 10.41524473, 11.02685341, 11.63846209,\n",
       "        12.25007077]),\n",
       " <a list of 2 BarContainer objects>)"
      ]
     },
     "execution_count": 6,
     "metadata": {},
     "output_type": "execute_result"
    },
    {
     "data": {
      "image/png": "[encoded data removed]",
      "text/plain": [
       "<Figure size 432x288 with 1 Axes>"
      ]
     },
     "metadata": {
      "needs_background": "light"
     },
     "output_type": "display_data"
    }
   ],
   "source": [
    "pillar = 20\n",
    "rand_1 = rand_gamma_2(10000)\n",
    "plt.hist(rand_1,bins = pillar)"
   ]
  },
  {
   "cell_type": "markdown",
   "id": "d234615a",
   "metadata": {},
   "source": [
    "可见逆变换法效率远高于舍选法"
   ]
  },
  {
   "cell_type": "markdown",
   "id": "7d35a182",
   "metadata": {},
   "source": [
    "# 第三章 第5题\n",
    "设$X\\sim N(0,1)$,则$\\theta=P(X>4.5)=3.398\\times10^{-6}$.\n",
    "1. 如果直接生成$N$个$X$的随机数，用$X_i>4.5$的比例估计$P(X>4.5)$，平均多少个样本点中才能有一个样本点满足$X_i>4.5$?\n",
    "2. 取$V$为指数分布EXP(1),令$W=V+4.5$，用$W$的样本进行重要抽样估计$\\theta$取样本点个数$N=1000$，求估计值并估计误差大小。"
   ]
  },
  {
   "cell_type": "code",
   "execution_count": 7,
   "id": "6795607f",
   "metadata": {
    "ExecuteTime": {
     "end_time": "2022-01-08T15:03:01.032630Z",
     "start_time": "2022-01-08T15:03:00.734656Z"
    }
   },
   "outputs": [
    {
     "data": {
      "text/plain": [
       "31"
      ]
     },
     "execution_count": 7,
     "metadata": {},
     "output_type": "execute_result"
    }
   ],
   "source": [
    "'''\n",
    "    1.\n",
    "    根据概率，平均3.398 * 10^6个样本点中才能有一个样本点满足大于4.5\n",
    "    生成10000000个标准正态随机数，只有36个大于4.5；\n",
    "'''\n",
    "X = np.random.normal(0, 1, 10000000)\n",
    "X_t = X[X > 4.5]\n",
    "len(X_t)"
   ]
  },
  {
   "cell_type": "code",
   "execution_count": 8,
   "id": "ca7aafb7",
   "metadata": {
    "ExecuteTime": {
     "end_time": "2022-01-08T15:03:01.047935Z",
     "start_time": "2022-01-08T15:03:01.034563Z"
    }
   },
   "outputs": [
    {
     "name": "stdout",
     "output_type": "stream",
     "text": [
      "估计值为：3.631561899987467e-06\n",
      "估计误差为：6.873510888389256%\n"
     ]
    }
   ],
   "source": [
    "'''\n",
    "    2.重要抽样法\n",
    "    \n",
    "'''\n",
    "U = np.random.rand(1000)\n",
    "x = 4.5 - np.log(U)\n",
    "y = np.exp(-0.5 * x * x + x - 4.5) / np.sqrt(2 * np.pi)\n",
    "y_mean = np.mean(y)\n",
    "print(\"估计值为：{}\\n估计误差为：{}%\".format(y_mean,abs((3.398e-06-y_mean)/3.398e-06)*100))"
   ]
  },
  {
   "cell_type": "markdown",
   "id": "c41bf1b5",
   "metadata": {},
   "source": [
    "# 第三章 第9题\n",
    "用随机模拟法计算二重积分$\\int_0^1\\int_0^1e^{(x+y)^2}dydx$,用对立变量法改善精度。"
   ]
  },
  {
   "cell_type": "markdown",
   "id": "dc17b8fc",
   "metadata": {},
   "source": [
    "## 平均值法"
   ]
  },
  {
   "cell_type": "code",
   "execution_count": 9,
   "id": "35c562cd",
   "metadata": {
    "ExecuteTime": {
     "end_time": "2022-01-08T15:03:01.063589Z",
     "start_time": "2022-01-08T15:03:01.051063Z"
    }
   },
   "outputs": [
    {
     "data": {
      "text/plain": [
       "array([ 1.30368399,  1.96889069,  1.2180909 , 38.1050551 ,  3.96782451,\n",
       "        1.00570254,  2.61630045,  4.78326512,  6.96033027,  6.32648705])"
      ]
     },
     "execution_count": 9,
     "metadata": {},
     "output_type": "execute_result"
    }
   ],
   "source": [
    "nums = 10\n",
    "X = np.random.random(nums)\n",
    "Y = np.random.random(nums)\n",
    "np.exp((X + Y)**2)"
   ]
  },
  {
   "cell_type": "code",
   "execution_count": 10,
   "id": "faf73a0c",
   "metadata": {
    "ExecuteTime": {
     "end_time": "2022-01-08T15:03:01.412111Z",
     "start_time": "2022-01-08T15:03:01.066581Z"
    }
   },
   "outputs": [
    {
     "name": "stdout",
     "output_type": "stream",
     "text": [
      "10000次模拟的平均值为：4.898138\n",
      "方差为：0.356427\n"
     ]
    }
   ],
   "source": [
    "'''\n",
    "    在(0,1)*(0,1)上对exp((x + y)^2)用平均值法\n",
    "'''\n",
    "def mean_estimate(nums):\n",
    "    '''使用nums个随机数模拟积分'''\n",
    "    X = np.random.random(nums)\n",
    "    Y = np.random.random(nums)\n",
    "    h = np.exp((X + Y) ** 2)\n",
    "    return np.mean(h)\n",
    "\n",
    "mean_estimate(10000)\n",
    "\n",
    "'''\n",
    "    模拟100次，取平均值和方差\n",
    "'''\n",
    "mean_estimate_all = np.array([])\n",
    "for i in range(10000):\n",
    "    a = mean_estimate(100)\n",
    "    mean_estimate_all = np.append(mean_estimate_all, a)\n",
    "\n",
    "mean_all = np.mean(mean_estimate_all)\n",
    "var_all = np.var(mean_estimate_all, ddof = 1)\n",
    "print('10000次模拟的平均值为：%f\\n方差为：%f'%(mean_all, var_all))"
   ]
  },
  {
   "cell_type": "markdown",
   "id": "500d73c4",
   "metadata": {},
   "source": [
    "## 对立变量法"
   ]
  },
  {
   "cell_type": "code",
   "execution_count": 11,
   "id": "723e8396",
   "metadata": {
    "ExecuteTime": {
     "end_time": "2022-01-08T15:03:01.809832Z",
     "start_time": "2022-01-08T15:03:01.414062Z"
    }
   },
   "outputs": [
    {
     "name": "stdout",
     "output_type": "stream",
     "text": [
      "10000次模拟的平均值为：4.900972\n",
      "方差为：0.113929\n"
     ]
    }
   ],
   "source": [
    "def op_estimate(nums):\n",
    "    \"\"\"使用nums个随机数来模拟积分\"\"\"\n",
    "    X = np.random.random(nums)\n",
    "    Y = np.random.random(nums)\n",
    "    h_1 = np.exp((X + Y) ** 2)\n",
    "    h_2 = np.exp(((1 - X) + (1 - Y)) ** 2)\n",
    "    h = (h_1 + h_2) / 2\n",
    "    return np.mean(h)\n",
    "\n",
    "op_estimate(10000)\n",
    "\n",
    "'''\n",
    "    模拟100次，取平均值和方差\n",
    "'''\n",
    "op_estimate_all = np.array([])\n",
    "for i in range(10000):\n",
    "    a = op_estimate(100)\n",
    "    op_estimate_all = np.append(op_estimate_all, a)\n",
    "\n",
    "mean_all = np.mean(op_estimate_all)\n",
    "var_all = np.var(op_estimate_all, ddof = 1)\n",
    "print('10000次模拟的平均值为：%f\\n方差为：%f'%(mean_all, var_all))"
   ]
  },
  {
   "cell_type": "markdown",
   "id": "80e06ea8",
   "metadata": {
    "ExecuteTime": {
     "end_time": "2022-01-08T07:59:18.382118Z",
     "start_time": "2022-01-08T07:59:18.373933Z"
    }
   },
   "source": [
    "可见控制变量法使方差降低很多，精度提高"
   ]
  },
  {
   "cell_type": "markdown",
   "id": "30a97d82",
   "metadata": {},
   "source": [
    "# 第三章 第13题\n",
    "设计模拟如下离散事件的算法。设某商场每天开放$L_0$时间，有小偷在该商场出没，小偷的出现服从强度为$\\lambda_1$的齐次Poisson过程，出现后作案$X$时间后离开，设$X$服从对数正态分布，$lnX\\sim N(\\mu_2,\\sigma_2^2)$.设有一个警察每隔$L_3$时间在商场巡逻$Y$时间。$Y$服从$EXP(\\lambda_2)$分布，只要小偷和警察同时出现在商场内小偷就会被抓获。模拟估计一天时间内有小偷被抓获的概率。"
   ]
  },
  {
   "cell_type": "code",
   "execution_count": 12,
   "id": "113b3c04",
   "metadata": {
    "ExecuteTime": {
     "end_time": "2022-01-08T15:03:01.825467Z",
     "start_time": "2022-01-08T15:03:01.811768Z"
    }
   },
   "outputs": [],
   "source": [
    "import random"
   ]
  },
  {
   "cell_type": "code",
   "execution_count": 13,
   "id": "48f82cfb",
   "metadata": {
    "ExecuteTime": {
     "end_time": "2022-01-08T15:03:01.840898Z",
     "start_time": "2022-01-08T15:03:01.827466Z"
    }
   },
   "outputs": [],
   "source": [
    "def prob_catch_day(L_0 = 12, lambda_1 = 1, mu = 0, sigma = 1, L_3 = 0.5, lambda_2 = 1, T = 12, nums = 1000):\n",
    "    '''\n",
    "    输入：\n",
    "        L_0:一天之中商场开放的时间\n",
    "        lambda_1:小偷出现服从的poisson过程的参数【时间间隔的参数】\n",
    "        mu, sigma:作案时间服从的对数正态分布\n",
    "        L_3:警察巡逻的时间间隔\n",
    "        lambda_2:警察巡逻时间服从的指数分布的参数\n",
    "        nums:模拟次数\n",
    "    输出：\n",
    "        这一天中小偷被抓获的概率\n",
    "        \n",
    "    备注：\n",
    "        t时间内事件发生的次数N(t)=n服从Poisson(\\lambda * t)\n",
    "    '''\n",
    "    start_time_thief = 0 # 小偷开始偷东西的时间\n",
    "    start_time_police = 0 # 警察开始巡逻时间\n",
    "    people = 0 # 未被捕人数\n",
    "    while T - start_time_thief > 0:\n",
    "        end_time_thief = start_time_thief + random.lognormvariate(mu, sigma) # 小偷结束偷东西的时间（对数正态分布）\n",
    "        start_time_police = start_time_police + L_3 #警察开始巡逻的时间——每次巡逻间隔L_3时间\n",
    "        end_time_police = start_time_police + random.expovariate(lambda_2) # 警察结束巡逻时间——指数分布\n",
    "        \n",
    "        # 计算成功偷窃的人数\n",
    "        if end_time_police < start_time_thief or start_time_police > end_time_thief:\n",
    "            people += 1 #未被捕获的人数加1\n",
    "        start_time_thief = end_time_police\n",
    "        start_time_police = end_time_police\n",
    "        \n",
    "    N_T = np.random.poisson(lambda_1 * T) # T内发生偷窃总次数\n",
    "    N_catch = N_T - people\n",
    "    prob_catch_T = N_catch / N_T\n",
    "    \n",
    "    return prob_catch_T"
   ]
  },
  {
   "cell_type": "code",
   "execution_count": 14,
   "id": "d849e2c6",
   "metadata": {
    "ExecuteTime": {
     "end_time": "2022-01-08T15:03:02.046542Z",
     "start_time": "2022-01-08T15:03:01.841740Z"
    }
   },
   "outputs": [
    {
     "name": "stdout",
     "output_type": "stream",
     "text": [
      "一天时间内有小偷被抓获的概率为0.802466\n"
     ]
    }
   ],
   "source": [
    "\"\"\"模拟10000次来估计小偷被抓住的概率\"\"\"\n",
    "prob_catch = 0\n",
    "\n",
    "for i in range(10000):\n",
    "    prob_catch += prob_catch_day()\n",
    "\n",
    "prob_catch = prob_catch / 10000\n",
    "    \n",
    "print('一天时间内有小偷被抓获的概率为%f'%prob_catch)"
   ]
  }
 ],
 "metadata": {
  "kernelspec": {
   "display_name": "Python 3",
   "language": "python",
   "name": "python3"
  },
  "language_info": {
   "codemirror_mode": {
    "name": "ipython",
    "version": 3
   },
   "file_extension": ".py",
   "mimetype": "text/x-python",
   "name": "python",
   "nbconvert_exporter": "python",
   "pygments_lexer": "ipython3",
   "version": "3.8.8"
  },
  "toc": {
   "base_numbering": 1,
   "nav_menu": {},
   "number_sections": true,
   "sideBar": true,
   "skip_h1_title": false,
   "title_cell": "Table of Contents",
   "title_sidebar": "Contents",
   "toc_cell": false,
   "toc_position": {},
   "toc_section_display": true,
   "toc_window_display": false
  },
  "varInspector": {
   "cols": {
    "lenName": 16,
    "lenType": 16,
    "lenVar": 40
   },
   "kernels_config": {
    "python": {
     "delete_cmd_postfix": "",
     "delete_cmd_prefix": "del ",
     "library": "var_list.py",
     "varRefreshCmd": "print(var_dic_list())"
    },
    "r": {
     "delete_cmd_postfix": ") ",
     "delete_cmd_prefix": "rm(",
     "library": "var_list.r",
     "varRefreshCmd": "cat(var_dic_list()) "
    }
   },
   "types_to_exclude": [
    "module",
    "function",
    "builtin_function_or_method",
    "instance",
    "_Feature"
   ],
   "window_display": false
  }
 },
 "nbformat": 4,
 "nbformat_minor": 5
}
