{
 "cells": [
  {
   "cell_type": "markdown",
   "id": "4e4f1d17",
   "metadata": {},
   "source": [
    "学习参考帖子：\n",
    "\n",
    "https://blog.csdn.net/weixin_44985880/article/details/115622253"
   ]
  },
  {
   "cell_type": "markdown",
   "id": "4ddcaa00",
   "metadata": {},
   "source": [
    "# 基本语法"
   ]
  },
  {
   "cell_type": "markdown",
   "id": "47a7dbe8",
   "metadata": {},
   "source": [
    "## 数据类型"
   ]
  },
  {
   "cell_type": "markdown",
   "id": "8d2c49b5",
   "metadata": {},
   "source": [
    "### 列表"
   ]
  },
  {
   "cell_type": "markdown",
   "id": "587eab24",
   "metadata": {},
   "source": [
    "#### 创建0列表"
   ]
  },
  {
   "cell_type": "code",
   "execution_count": 4,
   "id": "6fe75e74",
   "metadata": {},
   "outputs": [
    {
     "data": {
      "text/plain": [
       "[0, 0, 0, 0, 0, 0, 1, 0]"
      ]
     },
     "execution_count": 4,
     "metadata": {},
     "output_type": "execute_result"
    }
   ],
   "source": [
    "a = [0] * 8\n",
    "a[6] = 1\n",
    "a"
   ]
  },
  {
   "cell_type": "markdown",
   "id": "bc01b3b4",
   "metadata": {},
   "source": [
    "#### 判断列表中是否有某元素：in"
   ]
  },
  {
   "cell_type": "code",
   "execution_count": 5,
   "id": "b64846ad",
   "metadata": {},
   "outputs": [
    {
     "data": {
      "text/plain": [
       "True"
      ]
     },
     "execution_count": 5,
     "metadata": {},
     "output_type": "execute_result"
    }
   ],
   "source": [
    "0 in a"
   ]
  },
  {
   "cell_type": "markdown",
   "id": "8c966b2a",
   "metadata": {},
   "source": [
    "#### 输出某元素在列表中的索引.index(某元素)"
   ]
  },
  {
   "cell_type": "code",
   "execution_count": 6,
   "id": "fe100bef",
   "metadata": {},
   "outputs": [
    {
     "data": {
      "text/plain": [
       "6"
      ]
     },
     "execution_count": 6,
     "metadata": {},
     "output_type": "execute_result"
    }
   ],
   "source": [
    "a.index(1)"
   ]
  },
  {
   "cell_type": "markdown",
   "id": "77945725",
   "metadata": {},
   "source": [
    "#### 删除列表中某个元素"
   ]
  },
  {
   "cell_type": "code",
   "execution_count": 20,
   "id": "ef25b756",
   "metadata": {},
   "outputs": [
    {
     "name": "stdout",
     "output_type": "stream",
     "text": [
      "[1, 2, 3, 4, 5]\n",
      "[1, 3, 4, 5]\n"
     ]
    }
   ],
   "source": [
    "a = [1,2,3,4,5]\n",
    "b = a.copy()\n",
    "b.pop(1)\n",
    "print(a)\n",
    "print(b)"
   ]
  },
  {
   "cell_type": "code",
   "execution_count": 14,
   "id": "d91a627f",
   "metadata": {},
   "outputs": [
    {
     "data": {
      "text/plain": [
       "[1, 2, 5]"
      ]
     },
     "execution_count": 14,
     "metadata": {},
     "output_type": "execute_result"
    }
   ],
   "source": [
    "#按条件remove\n",
    "a = [1, 2, 3, 4, 5]\n",
    "a.remove(2)\n",
    "a\n",
    "#按索引pop?怎么删多个元素\n",
    "a = [1, 2, 3, 4, 5]\n",
    "a.pop(2)\n",
    "a\n",
    "#del删除指定范围\n",
    "a = [1, 2, 3, 4, 5]\n",
    "del a[2:4]#左开右闭区间\n",
    "a"
   ]
  },
  {
   "cell_type": "markdown",
   "id": "34138bbe",
   "metadata": {},
   "source": [
    "## class 类"
   ]
  },
  {
   "cell_type": "markdown",
   "id": "d24453d3",
   "metadata": {},
   "source": [
    "### 类"
   ]
  },
  {
   "cell_type": "markdown",
   "id": "3e612a27",
   "metadata": {},
   "source": [
    "**面向对象编程范式**\n",
    "\n",
    "一个类对应一种数据类型\n",
    "\n",
    "例：字符串类型，就是名为 str 的类。一个 str 中可以保存若干字符，并且针对这些字符提供了一系列的操作函数.find().upper()"
   ]
  },
  {
   "cell_type": "markdown",
   "id": "dc05a600",
   "metadata": {},
   "source": [
    "### 类的定义"
   ]
  },
  {
   "cell_type": "markdown",
   "id": "215747a4",
   "metadata": {},
   "source": [
    "把自定义的类看作自定义的**数据类型**"
   ]
  },
  {
   "cell_type": "code",
   "execution_count": 1,
   "id": "dac903f6",
   "metadata": {},
   "outputs": [],
   "source": [
    "class A:\n",
    "    pass"
   ]
  },
  {
   "cell_type": "markdown",
   "id": "8902d0d8",
   "metadata": {},
   "source": [
    "### 类的实例化"
   ]
  },
  {
   "cell_type": "code",
   "execution_count": 4,
   "id": "be0cd95b",
   "metadata": {},
   "outputs": [
    {
     "data": {
      "text/plain": [
       "__main__.A"
      ]
     },
     "execution_count": 4,
     "metadata": {},
     "output_type": "execute_result"
    }
   ],
   "source": [
    "a = A()\n",
    "type(a)"
   ]
  },
  {
   "cell_type": "code",
   "execution_count": 6,
   "id": "82e97cce",
   "metadata": {
    "scrolled": true
   },
   "outputs": [
    {
     "data": {
      "text/plain": [
       "<__main__.A at 0x260d04412b0>"
      ]
     },
     "execution_count": 6,
     "metadata": {},
     "output_type": "execute_result"
    }
   ],
   "source": [
    "a"
   ]
  },
  {
   "cell_type": "markdown",
   "id": "bb692a97",
   "metadata": {},
   "source": [
    "### 对象属性"
   ]
  },
  {
   "attachments": {
    "image.png": {
     "image/png": "[encoded data removed]"
    }
   },
   "cell_type": "markdown",
   "id": "5029bc69",
   "metadata": {},
   "source": [
    "![image.png](attachment:image.png)"
   ]
  },
  {
   "cell_type": "markdown",
   "id": "746f0127",
   "metadata": {},
   "source": [
    "**三个参数**\n",
    "\n",
    "self，它是类中函数默认的第一个参数，表示对象自身。我们可以将数据赋值给 self.数据名，这样数据就保存在对象中了\n",
    "\n",
    "first 是数据对的第一个值\n",
    "\n",
    "second 是数据对的第二个值\n",
    "\n",
    "first 和 second 叫做 Pair 类的**对象属性**，一般也可以直接叫作属性。"
   ]
  },
  {
   "cell_type": "markdown",
   "id": "2b46dfad",
   "metadata": {},
   "source": [
    "__init__() 函数一方面可以**接收**要保存在对象中的数据，另一方面也可以在实例化类的时候做一些**初始化工作。**\n",
    "\n",
    "只保存两个数据的类："
   ]
  },
  {
   "cell_type": "code",
   "execution_count": 18,
   "id": "84116031",
   "metadata": {},
   "outputs": [],
   "source": [
    "class Pair:\n",
    "    def __init__(self, first, second):\n",
    "        self.first = first\n",
    "        self.second = second"
   ]
  },
  {
   "cell_type": "code",
   "execution_count": 22,
   "id": "d72a53c0",
   "metadata": {},
   "outputs": [
    {
     "name": "stdout",
     "output_type": "stream",
     "text": [
      "10\n",
      "20\n",
      "1000\n"
     ]
    }
   ],
   "source": [
    "pair = Pair(10, 20) #实例化Pair类\n",
    "print(pair.first)\n",
    "print(pair.second)\n",
    "pair.first = 1000\n",
    "print(pair.first)"
   ]
  },
  {
   "cell_type": "markdown",
   "id": "4c19578a",
   "metadata": {},
   "source": [
    "自动调用 __init__() 函数，并将 10 传给了 first 参数，将 20 传给了 second 参数，而 __init__() 的第一个参数 self 是不需要传值的，Python 会自动填充这个参数。"
   ]
  },
  {
   "cell_type": "markdown",
   "id": "a6e7c63f",
   "metadata": {},
   "source": [
    "### 对象方法 \n",
    "\n",
    "list.append()\n",
    "\n",
    "其实就是除了init以外的**其他函数**\n",
    "\n",
    "写一个交换"
   ]
  },
  {
   "cell_type": "code",
   "execution_count": 28,
   "id": "894352cc",
   "metadata": {},
   "outputs": [],
   "source": [
    "# class Pair:\n",
    "#     def __init__(self, first, second):\n",
    "#         self.first = first\n",
    "#         self.second = second\n",
    "        \n",
    "#     def swap(self):\n",
    "#         self.first, self.second = self.second, self.first\n",
    "\n",
    "class Pair:\n",
    "    def __init__(self, first, second):\n",
    "        self.first = first\n",
    "        self.second = second\n",
    "        \n",
    "    def swap(self, a):\n",
    "        self.first = self.second\n",
    "        self.second = a\n",
    "        \n"
   ]
  },
  {
   "cell_type": "markdown",
   "id": "bb8f8270",
   "metadata": {},
   "source": [
    "类中其余对象方法，第一个参数是self，第二个开始是需要输入的"
   ]
  },
  {
   "cell_type": "code",
   "execution_count": 31,
   "id": "045e341e",
   "metadata": {},
   "outputs": [
    {
     "name": "stdout",
     "output_type": "stream",
     "text": [
      "1\n",
      "20\n"
     ]
    }
   ],
   "source": [
    "b = Pair(10, 20)\n",
    "b.swap(1)\n",
    "print(b.second)\n",
    "print(b.first)"
   ]
  },
  {
   "cell_type": "code",
   "execution_count": 25,
   "id": "1c5325f0",
   "metadata": {
    "scrolled": true
   },
   "outputs": [
    {
     "name": "stdout",
     "output_type": "stream",
     "text": [
      "10\n",
      "20\n"
     ]
    }
   ],
   "source": [
    "pair = Pair(10, 20)\n",
    "print(pair.first)\n",
    "pair.swap()\n",
    "print(pair.first)"
   ]
  },
  {
   "cell_type": "markdown",
   "id": "1cfe5d73",
   "metadata": {},
   "source": [
    "## 更大的代码盒子——模块和包\n",
    "\n",
    "每一个 Python 代码**文件**就是一个模块\n",
    "\n",
    "用import导入\n",
    "\n",
    "模块名是除去 .py 后缀的文件名称"
   ]
  },
  {
   "cell_type": "code",
   "execution_count": null,
   "id": "406e6c26",
   "metadata": {},
   "outputs": [],
   "source": [
    "# import 模块名\n",
    "\n",
    "# 模块名.变量\n",
    "# 模块名.函数\n",
    "# 模块名.类"
   ]
  },
  {
   "cell_type": "markdown",
   "id": "1aa96404",
   "metadata": {},
   "source": [
    "# 小技巧\n",
    "\n",
    "## 连等"
   ]
  },
  {
   "cell_type": "code",
   "execution_count": 26,
   "id": "e656a307",
   "metadata": {},
   "outputs": [],
   "source": [
    "class Pair:\n",
    "    def __init__(self, first, second):\n",
    "        self.first = first\n",
    "        self.second = second\n",
    "        \n",
    "    def swap(self):\n",
    "        self.first, self.second = self.second, self.first"
   ]
  },
  {
   "cell_type": "markdown",
   "id": "aa3fbb62",
   "metadata": {},
   "source": [
    "## print变量"
   ]
  },
  {
   "cell_type": "markdown",
   "id": "6a6e4b7e",
   "metadata": {},
   "source": [
    "### 用print(f'str{值}')"
   ]
  },
  {
   "cell_type": "code",
   "execution_count": 1,
   "id": "9eff1ac1",
   "metadata": {
    "ExecuteTime": {
     "end_time": "2021-11-09T02:01:54.970774Z",
     "start_time": "2021-11-09T02:01:54.961715Z"
    }
   },
   "outputs": [
    {
     "name": "stdout",
     "output_type": "stream",
     "text": [
      "减肥30斤\n"
     ]
    }
   ],
   "source": [
    "print(f'减肥{15 * 2}斤')"
   ]
  },
  {
   "cell_type": "markdown",
   "id": "15452a50",
   "metadata": {},
   "source": [
    "## 常用reshape技巧\n",
    "### `w.reshape(true_w.shape)`"
   ]
  },
  {
   "cell_type": "code",
   "execution_count": 2,
   "id": "5b50352d",
   "metadata": {
    "ExecuteTime": {
     "end_time": "2021-11-09T02:04:29.143823Z",
     "start_time": "2021-11-09T02:04:29.131515Z"
    }
   },
   "outputs": [],
   "source": [
    "import numpy as np"
   ]
  },
  {
   "cell_type": "code",
   "execution_count": 6,
   "id": "785b47df",
   "metadata": {
    "ExecuteTime": {
     "end_time": "2021-11-09T02:05:36.682634Z",
     "start_time": "2021-11-09T02:05:36.665817Z"
    }
   },
   "outputs": [],
   "source": [
    "w = np.array([1,2,3])\n",
    "true_w = np.array([[1,2,3]])"
   ]
  },
  {
   "cell_type": "code",
   "execution_count": 8,
   "id": "c5c544a2",
   "metadata": {
    "ExecuteTime": {
     "end_time": "2021-11-09T02:05:42.300131Z",
     "start_time": "2021-11-09T02:05:42.280052Z"
    }
   },
   "outputs": [
    {
     "data": {
      "text/plain": [
       "(3,)"
      ]
     },
     "execution_count": 8,
     "metadata": {},
     "output_type": "execute_result"
    }
   ],
   "source": [
    "w.shape"
   ]
  },
  {
   "cell_type": "code",
   "execution_count": 9,
   "id": "73681ccd",
   "metadata": {
    "ExecuteTime": {
     "end_time": "2021-11-09T02:05:48.461973Z",
     "start_time": "2021-11-09T02:05:48.448595Z"
    }
   },
   "outputs": [
    {
     "data": {
      "text/plain": [
       "(1, 3)"
      ]
     },
     "execution_count": 9,
     "metadata": {},
     "output_type": "execute_result"
    }
   ],
   "source": [
    "true_w.shape"
   ]
  },
  {
   "cell_type": "code",
   "execution_count": 12,
   "id": "c4f8b360",
   "metadata": {
    "ExecuteTime": {
     "end_time": "2021-11-09T02:06:48.604685Z",
     "start_time": "2021-11-09T02:06:48.586261Z"
    }
   },
   "outputs": [
    {
     "data": {
      "text/plain": [
       "(1, 3)"
      ]
     },
     "execution_count": 12,
     "metadata": {},
     "output_type": "execute_result"
    }
   ],
   "source": [
    "(true_w - w).shape"
   ]
  },
  {
   "cell_type": "code",
   "execution_count": 13,
   "id": "c86bb402",
   "metadata": {
    "ExecuteTime": {
     "end_time": "2021-11-09T02:07:07.471856Z",
     "start_time": "2021-11-09T02:07:07.455712Z"
    }
   },
   "outputs": [
    {
     "data": {
      "text/plain": [
       "(3,)"
      ]
     },
     "execution_count": 13,
     "metadata": {},
     "output_type": "execute_result"
    }
   ],
   "source": [
    "(true_w.reshape(w.shape) - w).shape"
   ]
  },
  {
   "cell_type": "code",
   "execution_count": null,
   "id": "59619d07",
   "metadata": {},
   "outputs": [],
   "source": []
  },
  {
   "cell_type": "code",
   "execution_count": null,
   "id": "3b68c320",
   "metadata": {},
   "outputs": [],
   "source": []
  },
  {
   "cell_type": "code",
   "execution_count": null,
   "id": "48eff0ef",
   "metadata": {},
   "outputs": [],
   "source": []
  },
  {
   "cell_type": "code",
   "execution_count": null,
   "id": "a62f7216",
   "metadata": {},
   "outputs": [],
   "source": []
  },
  {
   "cell_type": "code",
   "execution_count": null,
   "id": "d25b2fbd",
   "metadata": {},
   "outputs": [],
   "source": []
  },
  {
   "cell_type": "code",
   "execution_count": null,
   "id": "e861572e",
   "metadata": {},
   "outputs": [],
   "source": []
  },
  {
   "cell_type": "code",
   "execution_count": null,
   "id": "cb8e1f13",
   "metadata": {},
   "outputs": [],
   "source": []
  },
  {
   "cell_type": "code",
   "execution_count": null,
   "id": "f2735186",
   "metadata": {},
   "outputs": [],
   "source": []
  },
  {
   "cell_type": "code",
   "execution_count": null,
   "id": "086b25e2",
   "metadata": {},
   "outputs": [],
   "source": []
  },
  {
   "cell_type": "code",
   "execution_count": null,
   "id": "de5a22a8",
   "metadata": {},
   "outputs": [],
   "source": []
  },
  {
   "cell_type": "code",
   "execution_count": null,
   "id": "b41248db",
   "metadata": {},
   "outputs": [],
   "source": []
  },
  {
   "cell_type": "code",
   "execution_count": null,
   "id": "d4c827c0",
   "metadata": {},
   "outputs": [],
   "source": []
  },
  {
   "cell_type": "code",
   "execution_count": null,
   "id": "cc4a088a",
   "metadata": {},
   "outputs": [],
   "source": []
  }
 ],
 "metadata": {
  "kernelspec": {
   "display_name": "Python 3",
   "language": "python",
   "name": "python3"
  },
  "language_info": {
   "codemirror_mode": {
    "name": "ipython",
    "version": 3
   },
   "file_extension": ".py",
   "mimetype": "text/x-python",
   "name": "python",
   "nbconvert_exporter": "python",
   "pygments_lexer": "ipython3",
   "version": "3.8.8"
  },
  "toc": {
   "base_numbering": 1,
   "nav_menu": {},
   "number_sections": true,
   "sideBar": true,
   "skip_h1_title": false,
   "title_cell": "Table of Contents",
   "title_sidebar": "Contents",
   "toc_cell": false,
   "toc_position": {
    "height": "931.111px",
    "left": "186px",
    "top": "110.05px",
    "width": "202.2px"
   },
   "toc_section_display": true,
   "toc_window_display": true
  },
  "varInspector": {
   "cols": {
    "lenName": 16,
    "lenType": 16,
    "lenVar": 40
   },
   "kernels_config": {
    "python": {
     "delete_cmd_postfix": "",
     "delete_cmd_prefix": "del ",
     "library": "var_list.py",
     "varRefreshCmd": "print(var_dic_list())"
    },
    "r": {
     "delete_cmd_postfix": ") ",
     "delete_cmd_prefix": "rm(",
     "library": "var_list.r",
     "varRefreshCmd": "cat(var_dic_list()) "
    }
   },
   "types_to_exclude": [
    "module",
    "function",
    "builtin_function_or_method",
    "instance",
    "_Feature"
   ],
   "window_display": false
  }
 },
 "nbformat": 4,
 "nbformat_minor": 5
}
