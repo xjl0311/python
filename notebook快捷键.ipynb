{
 "cells": [
  {
   "cell_type": "markdown",
   "id": "e118a697",
   "metadata": {},
   "source": [
    "# 显示快捷键帮助 H"
   ]
  },
  {
   "cell_type": "markdown",
   "id": "63fb898b",
   "metadata": {},
   "source": [
    "# 命令模式"
   ]
  },
  {
   "cell_type": "markdown",
   "id": "cbc2cb95",
   "metadata": {},
   "source": [
    "## 运行"
   ]
  },
  {
   "cell_type": "markdown",
   "id": "e1f27da9",
   "metadata": {},
   "source": [
    "运行本单元：Ctrl-Enter"
   ]
  },
  {
   "cell_type": "markdown",
   "id": "74fbf92d",
   "metadata": {},
   "source": [
    "运行本单元选中下一个单元：Shift-Enter"
   ]
  },
  {
   "cell_type": "markdown",
   "id": "c1208e26",
   "metadata": {},
   "source": [
    "运行本单元，在下插入新单元：Alt-Enter"
   ]
  },
  {
   "cell_type": "markdown",
   "id": "f8530900",
   "metadata": {},
   "source": [
    "## 状态"
   ]
  },
  {
   "cell_type": "markdown",
   "id": "c4a52695",
   "metadata": {},
   "source": [
    "代码状态：Y"
   ]
  },
  {
   "cell_type": "markdown",
   "id": "95079372",
   "metadata": {},
   "source": [
    "markdown状态：M"
   ]
  },
  {
   "cell_type": "markdown",
   "id": "0aa96807",
   "metadata": {},
   "source": [
    "raw状态：R"
   ]
  },
  {
   "cell_type": "markdown",
   "id": "a4593ff5",
   "metadata": {},
   "source": [
    "## 标题 "
   ]
  },
  {
   "cell_type": "markdown",
   "id": "d81e114c",
   "metadata": {},
   "source": [
    "123456级标题"
   ]
  },
  {
   "cell_type": "markdown",
   "id": "3e9187f1",
   "metadata": {},
   "source": [
    "## 选中"
   ]
  },
  {
   "cell_type": "markdown",
   "id": "afaa8b59",
   "metadata": {},
   "source": [
    "上下：KJ"
   ]
  },
  {
   "cell_type": "markdown",
   "id": "f3218e3d",
   "metadata": {},
   "source": [
    "扩大：shift+KJ/up down"
   ]
  },
  {
   "cell_type": "markdown",
   "id": "ec889349",
   "metadata": {},
   "source": [
    "## 插入、复制、粘贴"
   ]
  },
  {
   "cell_type": "markdown",
   "id": "b6ad09dc",
   "metadata": {},
   "source": [
    "上下方插入新单元：AB"
   ]
  },
  {
   "cell_type": "markdown",
   "id": "53f1c017",
   "metadata": {},
   "source": [
    "复制单元：C"
   ]
  },
  {
   "cell_type": "markdown",
   "id": "dc455f30",
   "metadata": {},
   "source": [
    "剪切单元：X"
   ]
  },
  {
   "cell_type": "markdown",
   "id": "e84946a1",
   "metadata": {},
   "source": [
    "粘贴下方/上方单元：V/shift+V"
   ]
  },
  {
   "cell_type": "markdown",
   "id": "ba82e960",
   "metadata": {},
   "source": [
    "恢复删除的最后一个单元：Z"
   ]
  },
  {
   "cell_type": "markdown",
   "id": "b79e58cc",
   "metadata": {},
   "source": [
    "删除：DD"
   ]
  },
  {
   "cell_type": "markdown",
   "id": "f52cc6df",
   "metadata": {},
   "source": [
    "## 合并、存盘、转换"
   ]
  },
  {
   "cell_type": "markdown",
   "id": "3c43b8e8",
   "metadata": {},
   "source": [
    "合并选中单元：shift-M"
   ]
  },
  {
   "cell_type": "markdown",
   "id": "c864b0be",
   "metadata": {},
   "source": [
    "文件存盘：S/Ctrl-S"
   ]
  },
  {
   "cell_type": "markdown",
   "id": "45c60eba",
   "metadata": {},
   "source": [
    "？？转换行号：L"
   ]
  },
  {
   "cell_type": "markdown",
   "id": "2e91ec9b",
   "metadata": {},
   "source": [
    "？？转换输出：O"
   ]
  },
  {
   "cell_type": "markdown",
   "id": "935993ce",
   "metadata": {},
   "source": [
    "？？转换输出滚动：shift-o"
   ]
  },
  {
   "cell_type": "markdown",
   "id": "4480f523",
   "metadata": {},
   "source": [
    "## 关闭、中断、重启"
   ]
  },
  {
   "cell_type": "markdown",
   "id": "e8181706",
   "metadata": {},
   "source": [
    "关闭：ESC、Q"
   ]
  },
  {
   "cell_type": "markdown",
   "id": "67c50ba1",
   "metadata": {},
   "source": [
    "中断notebook内核：II"
   ]
  },
  {
   "cell_type": "markdown",
   "id": "12982d07",
   "metadata": {},
   "source": [
    "重启notebook内核：oo"
   ]
  },
  {
   "cell_type": "markdown",
   "id": "6ee5a460",
   "metadata": {},
   "source": [
    "## 忽略、滚动"
   ]
  },
  {
   "cell_type": "markdown",
   "id": "d0b4e39f",
   "metadata": {},
   "source": [
    "忽略：shift"
   ]
  },
  {
   "cell_type": "markdown",
   "id": "50482c77",
   "metadata": {},
   "source": [
    "向上滚动：shift-Space"
   ]
  },
  {
   "cell_type": "markdown",
   "id": "d12b1572",
   "metadata": {},
   "source": [
    "向下滚动：space"
   ]
  },
  {
   "cell_type": "markdown",
   "id": "fe255c91",
   "metadata": {},
   "source": [
    "# 编辑模式"
   ]
  },
  {
   "cell_type": "markdown",
   "id": "8ca5e63a",
   "metadata": {},
   "source": [
    "代码补全或缩进：Tab"
   ]
  },
  {
   "cell_type": "markdown",
   "id": "ebafd4ad",
   "metadata": {},
   "source": [
    "提示：Shift-Tab"
   ]
  },
  {
   "cell_type": "markdown",
   "id": "5c5e1341",
   "metadata": {},
   "source": [
    "另一种缩进方法：Ctrl-}"
   ]
  },
  {
   "cell_type": "markdown",
   "id": "c28d1579",
   "metadata": {},
   "source": [
    "再做：Ctrl-Shift-Z"
   ]
  },
  {
   "cell_type": "markdown",
   "id": "4478e4c1",
   "metadata": {},
   "source": [
    "跳到单元开头：Ctrl-home/Ctrl-up"
   ]
  },
  {
   "cell_type": "markdown",
   "id": "737627ad",
   "metadata": {},
   "source": [
    "删除前面一个单词：Ctrl-backspace"
   ]
  },
  {
   "cell_type": "markdown",
   "id": "ae39764b",
   "metadata": {},
   "source": [
    "删除后面一个单词：Ctrl/Delete"
   ]
  },
  {
   "cell_type": "markdown",
   "id": "1085539f",
   "metadata": {},
   "source": [
    "进入命令模式：ESC/ Ctrl-M"
   ]
  },
  {
   "cell_type": "markdown",
   "id": "f7b8b266",
   "metadata": {},
   "source": [
    "分割单元：ctrl-shift--/ctrl-shift-subtract"
   ]
  }
 ],
 "metadata": {
  "kernelspec": {
   "display_name": "Python 3",
   "language": "python",
   "name": "python3"
  },
  "language_info": {
   "codemirror_mode": {
    "name": "ipython",
    "version": 3
   },
   "file_extension": ".py",
   "mimetype": "text/x-python",
   "name": "python",
   "nbconvert_exporter": "python",
   "pygments_lexer": "ipython3",
   "version": "3.8.8"
  }
 },
 "nbformat": 4,
 "nbformat_minor": 5
}
