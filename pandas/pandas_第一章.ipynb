{
 "cells": [
  {
   "cell_type": "markdown",
   "id": "018d7503",
   "metadata": {},
   "source": [
    "学习资料来源：https://github.com/datawhalechina/joyful-pandas"
   ]
  },
  {
   "cell_type": "markdown",
   "id": "7d3a0848",
   "metadata": {},
   "source": [
    "# 预备知识"
   ]
  },
  {
   "cell_type": "markdown",
   "id": "3113c782",
   "metadata": {},
   "source": [
    "## Python基础"
   ]
  },
  {
   "cell_type": "code",
   "execution_count": 1,
   "id": "88c8c9b1",
   "metadata": {
    "collapsed": true
   },
   "outputs": [],
   "source": [
    "l=[]\n",
    "\n",
    "def my_func(x):\n",
    "    return 2*x\n",
    "\n",
    "for i in range(6):\n",
    "    l.append(my_func(i))"
   ]
  },
  {
   "cell_type": "markdown",
   "id": "2afb4065",
   "metadata": {},
   "source": [
    "### 列表表达式与条件赋值"
   ]
  },
  {
   "cell_type": "code",
   "execution_count": 2,
   "id": "d44778fa",
   "metadata": {
    "collapsed": true
   },
   "outputs": [
    {
     "data": {
      "text/plain": [
       "[0, 2, 4, 6, 8, 10]"
      ]
     },
     "execution_count": 2,
     "metadata": {},
     "output_type": "execute_result"
    }
   ],
   "source": [
    "'''\n",
    "    一层\n",
    "'''\n",
    "[my_func(i) for i in range(6)]"
   ]
  },
  {
   "cell_type": "code",
   "execution_count": 3,
   "id": "3cbec918",
   "metadata": {
    "collapsed": true
   },
   "outputs": [
    {
     "data": {
      "text/plain": [
       "['a_c', 'a_d', 'b_c', 'b_d']"
      ]
     },
     "execution_count": 3,
     "metadata": {},
     "output_type": "execute_result"
    }
   ],
   "source": [
    "'''\n",
    "    二层\n",
    "'''\n",
    "[m+'_'+n for m in ['a','b'] for n in ['c','d']]"
   ]
  },
  {
   "cell_type": "code",
   "execution_count": 4,
   "id": "f8067161",
   "metadata": {
    "collapsed": true
   },
   "outputs": [
    {
     "data": {
      "text/plain": [
       "'cat'"
      ]
     },
     "execution_count": 4,
     "metadata": {},
     "output_type": "execute_result"
    }
   ],
   "source": [
    "'''\n",
    "    条件赋值\n",
    "'''\n",
    "value = 'dog' if 1>2 else 'cat'\n",
    "value"
   ]
  },
  {
   "cell_type": "code",
   "execution_count": 5,
   "id": "f01e3e0c",
   "metadata": {
    "collapsed": true
   },
   "outputs": [
    {
     "data": {
      "text/plain": [
       "[0, 1, 2, 3, 4, 5, 5, 5, 5, 5]"
      ]
     },
     "execution_count": 5,
     "metadata": {},
     "output_type": "execute_result"
    }
   ],
   "source": [
    "'''\n",
    "    截断元素（注意是截断不是删除）\n",
    "'''\n",
    "L = range(10)\n",
    "'''\n",
    "    错误！要有for[i if i <=5 else 5 in L]\n",
    "'''\n",
    "[i if i<= 5 else 5 for i in L]"
   ]
  },
  {
   "cell_type": "code",
   "execution_count": 6,
   "id": "2f7dcf37",
   "metadata": {
    "collapsed": true
   },
   "outputs": [
    {
     "name": "stdout",
     "output_type": "stream",
     "text": [
      "range(0, 10)\n",
      "[0, 1, 2, 3, 4, 5, 6, 7, 8, 9]\n"
     ]
    }
   ],
   "source": [
    "'''\n",
    "    注意range()返回的是一个可迭代对象，不是列表\n",
    "'''\n",
    "L = range(10)\n",
    "print(L)\n",
    "print(list(L))"
   ]
  },
  {
   "cell_type": "markdown",
   "id": "475df4dd",
   "metadata": {},
   "source": [
    "### 匿名函数与map方法"
   ]
  },
  {
   "cell_type": "code",
   "execution_count": 7,
   "id": "25b1874f",
   "metadata": {
    "collapsed": true
   },
   "outputs": [
    {
     "name": "stdout",
     "output_type": "stream",
     "text": [
      "['哈哈哈', 'bb', 'cb']\n",
      "['哈', '哈', '哈']\n"
     ]
    }
   ],
   "source": [
    "'''\n",
    "    这里要注意的是：\n",
    "        对单个字符串'abc'外加list会把每个字符都拆开，组成一个字符列表\n",
    "'''\n",
    "a = ['哈哈哈','bb','cb']\n",
    "print(a)\n",
    "print(list(a[0]))"
   ]
  },
  {
   "cell_type": "code",
   "execution_count": 8,
   "id": "de9d0656",
   "metadata": {
    "collapsed": true
   },
   "outputs": [
    {
     "name": "stdout",
     "output_type": "stream",
     "text": [
      "[0, 2, 4, 6, 8, 10, 12, 14, 16, 18]\n",
      "[0, 3, 6, 9, 12, 15, 18, 21, 24, 27]\n",
      "[0, 3, 6, 9, 12, 15, 18, 21, 24, 27]\n",
      "['a_c', 'b_d', 'c_e']\n"
     ]
    }
   ],
   "source": [
    "'''\n",
    "    lambda是匿名函数，可以简单表述一些函数\n",
    "    lambda x,y:x+y\n",
    "    \n",
    "    要将整个lambda表达式当作函数用(lambda x:2*x)(x)\n",
    "    XXXXprint(lambda x:2*x for i in L)\n",
    "    VVVVprint([(lambda x:2*x)(i) for i in L])\n",
    "    \n",
    "    然后就可以很好的配合map方法，将函数map到列表中去\n",
    "    map(函数,可迭代对象(list,range))\n",
    "    多元情况，增加直接在\",\"后添加可迭代对象\n",
    "    map(多元函数,迭代1，迭代2，……)\n",
    "    \n",
    "    注意要迭代的对象是str的时候，你的自变量也要str()\n",
    "    注意map方法输出的是一个map对象不是列表，要加list()\n",
    "    \n",
    "'''\n",
    "L = range(10)\n",
    "\n",
    "print(\n",
    "    [(lambda x:2*x)(i) for i in L]\n",
    ")\n",
    "print(list(\n",
    "    map(lambda x : x*3, L)\n",
    ")\n",
    "     )\n",
    "print(list(\n",
    "    map(lambda x,y,z:x+y+z , L,L,L)\n",
    "))\n",
    "print(list(\n",
    "    map(lambda x,y:str(x)+'_'+str(y), ['a','b','c'], ['c','d','e'])\n",
    "))"
   ]
  },
  {
   "cell_type": "markdown",
   "id": "7401281c",
   "metadata": {},
   "source": [
    "### zip对象与enumerate方法"
   ]
  },
  {
   "cell_type": "code",
   "execution_count": 9,
   "id": "13a5bfd2",
   "metadata": {
    "collapsed": true
   },
   "outputs": [
    {
     "name": "stdout",
     "output_type": "stream",
     "text": [
      "[('a', 'd', 'h'), ('b', 'e', 'i'), ('c', 'f', 'j')]\n",
      "(('a', 'd', 'h'), ('b', 'e', 'i'), ('c', 'f', 'j'))\n",
      "('a', 'd', 'h')\n"
     ]
    }
   ],
   "source": [
    "'''\n",
    "    zip函数能够把多个可迭代对象打包成一个元组构成的[可迭代对象]【返回一个zip对象】\n",
    "    用tuple和list得到相应的打包结果\n",
    "    \n",
    "    效果上实现：\n",
    "        将几个可迭代对象的，对应位置组合起来为新一组\n",
    "'''\n",
    "L1, L2, L3 =list('abc'), list('def'), list('hij')\n",
    "\n",
    "print(\n",
    "    list(zip(L1, L2, L3))\n",
    ")\n",
    "\n",
    "print(\n",
    "    tuple(zip(L1, L2, L3))\n",
    ")\n",
    "print(list(zip(L1,L2,L3))[0])"
   ]
  },
  {
   "cell_type": "code",
   "execution_count": 10,
   "id": "20634f8a",
   "metadata": {
    "collapsed": true
   },
   "outputs": [
    {
     "name": "stdout",
     "output_type": "stream",
     "text": [
      "a d h\n",
      "b e i\n",
      "c f j\n"
     ]
    }
   ],
   "source": [
    "for i, j, k in zip(L1, L2, L3):\n",
    "    print(i,j,k)"
   ]
  },
  {
   "cell_type": "code",
   "execution_count": 11,
   "id": "6d92e302",
   "metadata": {
    "collapsed": true
   },
   "outputs": [
    {
     "name": "stdout",
     "output_type": "stream",
     "text": [
      "0 a\n",
      "1 b\n",
      "2 c\n",
      "3 d\n"
     ]
    }
   ],
   "source": [
    "'''\n",
    "    输出索引序号\n",
    "    enumerate()是一种特殊的打包\n",
    "        可以在迭代时绑定迭代元素的遍历序号\n",
    "'''\n",
    "L = list('abcd')\n",
    "for index, value in enumerate(L):\n",
    "    print(index, value)"
   ]
  },
  {
   "cell_type": "code",
   "execution_count": 12,
   "id": "496157a5",
   "metadata": {
    "collapsed": true
   },
   "outputs": [
    {
     "name": "stdout",
     "output_type": "stream",
     "text": [
      "[(0, 'a'), (1, 'b'), (2, 'c'), (3, 'd')]\n",
      "0 a\n",
      "1 b\n",
      "2 c\n",
      "3 d\n"
     ]
    }
   ],
   "source": [
    "'''\n",
    "    类似功能（输出索引）：\n",
    "        zip()\n",
    "'''\n",
    "L = list('abcd')\n",
    "Z = zip(range(len(L)),L)\n",
    "print(list(Z))\n",
    "\n",
    "for index, value in zip(range(len(L)),L):\n",
    "    print(index, value)"
   ]
  },
  {
   "cell_type": "code",
   "execution_count": 13,
   "id": "9f95d7c7",
   "metadata": {
    "collapsed": true
   },
   "outputs": [
    {
     "data": {
      "text/plain": [
       "'\\n    ???注意Zip对象消失的情况\\n'"
      ]
     },
     "execution_count": 13,
     "metadata": {},
     "output_type": "execute_result"
    }
   ],
   "source": [
    "\"\"\"\n",
    "    ???注意Zip对象消失的情况\n",
    "\"\"\"\n",
    "# Z = zip(range(len(L)),L)\n",
    "# dict(Z)\n",
    "# list(Z)"
   ]
  },
  {
   "cell_type": "code",
   "execution_count": 14,
   "id": "17448cdf",
   "metadata": {
    "collapsed": true
   },
   "outputs": [
    {
     "name": "stdout",
     "output_type": "stream",
     "text": [
      "{'a': 'd', 'b': 'e', 'c': 'f'}\n",
      "d\n"
     ]
    }
   ],
   "source": [
    "'''\n",
    "    使用zip对两个列表建立字典映射：\n",
    "        dict(zip())\n",
    "'''\n",
    "L1, L2 = list('abc'), list('def')\n",
    "print(dict(zip(L1, L2)))\n",
    "print(dict(zip(L1, L2))['a'])"
   ]
  },
  {
   "cell_type": "code",
   "execution_count": 15,
   "id": "32c97b18",
   "metadata": {
    "collapsed": true
   },
   "outputs": [
    {
     "name": "stdout",
     "output_type": "stream",
     "text": [
      "[('a', 'd', 'h'), ('b', 'e', 'i'), ('c', 'f', 'j')]\n"
     ]
    },
    {
     "data": {
      "text/plain": [
       "[('a', 'b', 'c'), ('d', 'e', 'f'), ('h', 'i', 'j')]"
      ]
     },
     "execution_count": 15,
     "metadata": {},
     "output_type": "execute_result"
    }
   ],
   "source": [
    "'''\n",
    "    *+zip联合使用来解压\n",
    "'''\n",
    "L1, L2, L3 =list('abc'), list('def'), list('hij')\n",
    "\n",
    "zipped = list(zip(L1, L2, L3))\n",
    "\n",
    "print(\n",
    "    zipped\n",
    ")\n",
    "\n",
    "list(zip(*zipped))"
   ]
  },
  {
   "cell_type": "markdown",
   "id": "97f1662e",
   "metadata": {},
   "source": [
    "## Numpy基础"
   ]
  },
  {
   "cell_type": "code",
   "execution_count": 16,
   "id": "11ce4402",
   "metadata": {
    "collapsed": true
   },
   "outputs": [],
   "source": [
    "import numpy as np"
   ]
  },
  {
   "cell_type": "markdown",
   "id": "753c7f5a",
   "metadata": {},
   "source": [
    "### np数组的构造"
   ]
  },
  {
   "cell_type": "code",
   "execution_count": 17,
   "id": "93c7f104",
   "metadata": {
    "collapsed": true
   },
   "outputs": [
    {
     "name": "stdout",
     "output_type": "stream",
     "text": [
      "[1 2 3]\n",
      "[1.  1.4 1.8 2.2 2.6 3.  3.4 3.8 4.2 4.6 5. ]\n",
      "[1 2 3 4]\n"
     ]
    }
   ],
   "source": [
    "print(\n",
    "    np.array([1,2,3])\n",
    ")\n",
    "'''\n",
    "    等差序列：\n",
    "        np.linspace(起始，终止(包含)，个数)\n",
    "        np.arange(起始，终止(不包含)，步长)\n",
    "'''\n",
    "\n",
    "print(\n",
    "    np.linspace(1,5,11)\n",
    ")\n",
    "print(\n",
    "    np.arange(1,5,1)\n",
    ")"
   ]
  },
  {
   "cell_type": "code",
   "execution_count": 18,
   "id": "ebc6db9b",
   "metadata": {
    "collapsed": true
   },
   "outputs": [
    {
     "name": "stdout",
     "output_type": "stream",
     "text": [
      "[[0. 0. 0.]\n",
      " [0. 0. 0.]]\n",
      "[[1. 0. 0. 0. 0. 0. 0. 0. 0. 0.]\n",
      " [0. 1. 0. 0. 0. 0. 0. 0. 0. 0.]\n",
      " [0. 0. 1. 0. 0. 0. 0. 0. 0. 0.]\n",
      " [0. 0. 0. 1. 0. 0. 0. 0. 0. 0.]\n",
      " [0. 0. 0. 0. 1. 0. 0. 0. 0. 0.]\n",
      " [0. 0. 0. 0. 0. 1. 0. 0. 0. 0.]\n",
      " [0. 0. 0. 0. 0. 0. 1. 0. 0. 0.]\n",
      " [0. 0. 0. 0. 0. 0. 0. 1. 0. 0.]\n",
      " [0. 0. 0. 0. 0. 0. 0. 0. 1. 0.]\n",
      " [0. 0. 0. 0. 0. 0. 0. 0. 0. 1.]]\n",
      "[[10 10 10]\n",
      " [10 10 10]]\n",
      "[[1 2 3]\n",
      " [1 2 3]]\n"
     ]
    }
   ],
   "source": [
    "'''\n",
    "    特殊矩阵:\n",
    "    np.zeros,\n",
    "    np.eye【单位矩阵】,\n",
    "    np.full【填充矩阵形状，每行的值】\n",
    "'''\n",
    "print(\n",
    "    np.zeros((2,3))    \n",
    ")\n",
    "print(\n",
    "    np.eye(10)    \n",
    ")\n",
    "print(\n",
    "    np.full((2,3),10)\n",
    ")\n",
    "print(\n",
    "    np.full((2,3),[1,2,3])\n",
    ")"
   ]
  },
  {
   "cell_type": "code",
   "execution_count": 19,
   "id": "7d83baf9",
   "metadata": {
    "collapsed": true
   },
   "outputs": [
    {
     "name": "stdout",
     "output_type": "stream",
     "text": [
      "[0.85122685 0.83531123 0.62202809]\n",
      "[[0.23151511 0.17557822 0.04318566]\n",
      " [0.67387109 0.50773518 0.87438898]\n",
      " [0.18017248 0.25350187 0.19153238]]\n",
      "[[-1.60670027  1.3015487 ]\n",
      " [-1.09147747 -1.21617517]]\n",
      "[1.15461812 0.42061525 0.40584806]\n",
      "[[ 6  6]\n",
      " [12 11]]\n",
      "[14.9155236  13.63562888 13.8228574 ]\n",
      "[ 3.1714132   5.6470187  -0.01938901]\n"
     ]
    }
   ],
   "source": [
    "'''\n",
    "    随机矩阵：np.random\n",
    "        np.random.rand【01均匀分布的随机数组】\n",
    "        np.random.randn【标准正态分布的随机数组】\n",
    "        np.random.randint【随机整数组】\n",
    "        np.random.choice【随机抽样列表】\n",
    "\n",
    "'''\n",
    "print(\n",
    "    np.random.rand(3) # 01均匀分布\n",
    ")\n",
    "print(\n",
    "    np.random.rand(3,3) # 注意传入的不是数组，区分np.zeros((3,3))\n",
    ")\n",
    "print(\n",
    "    np.random.randn(2, 2) # 标准正态分布\n",
    ")\n",
    "print(\n",
    "    np.random.randn(3)\n",
    ")\n",
    "print(\n",
    "    np.random.randint(5,15,(2,2)) # 限定随机整数的最大值，最小值和维度\n",
    ")\n",
    "'''\n",
    "    生成a-b上的均匀分布\n",
    "'''\n",
    "\n",
    "a,b = 5,15\n",
    "print(\n",
    "    (b - a) * np.random.rand(3) + a\n",
    ")\n",
    "\n",
    "'''\n",
    "    mu,sigma^2的正态分布\n",
    "'''\n",
    "sigma, mu = 2.5, 3\n",
    "print(\n",
    "    mu + np.random.randn(3) * sigma\n",
    ")"
   ]
  },
  {
   "cell_type": "code",
   "execution_count": 20,
   "id": "f2b80cb9",
   "metadata": {
    "collapsed": true
   },
   "outputs": [
    {
     "data": {
      "text/plain": [
       "array(['d', 'b'], dtype='<U1')"
      ]
     },
     "execution_count": 20,
     "metadata": {},
     "output_type": "execute_result"
    }
   ],
   "source": [
    "'''\n",
    "    np.random.choice\n",
    "    从给定列表中，以一定概率和方式抽取结果\n",
    "    \n",
    "    默认均匀采样\n",
    "    默认放回抽样\n",
    "'''\n",
    "my_list = list('abcd')\n",
    "\n",
    "np.random.choice(my_list, 2, replace = False, p=[0.1, 0.7, 0.1, 0.1])#列表，维数，是否放回，概率"
   ]
  },
  {
   "cell_type": "code",
   "execution_count": 21,
   "id": "72cf3e0b",
   "metadata": {
    "collapsed": true
   },
   "outputs": [
    {
     "data": {
      "text/plain": [
       "array([['c', 'c', 'c'],\n",
       "       ['c', 'd', 'd'],\n",
       "       ['d', 'c', 'a']], dtype='<U1')"
      ]
     },
     "execution_count": 21,
     "metadata": {},
     "output_type": "execute_result"
    }
   ],
   "source": [
    "np.random.choice(my_list, (3,3))"
   ]
  },
  {
   "cell_type": "code",
   "execution_count": 22,
   "id": "ae711d75",
   "metadata": {
    "collapsed": true
   },
   "outputs": [
    {
     "data": {
      "text/plain": [
       "array(['a', 'c', 'b', 'd'], dtype='<U1')"
      ]
     },
     "execution_count": 22,
     "metadata": {},
     "output_type": "execute_result"
    }
   ],
   "source": [
    "'''\n",
    "    permutation打散原列表\n",
    "    \n",
    "    等价于上面的choice【当返回元素个数与原列表相同时】\n",
    "'''\n",
    "np.random.permutation(my_list)"
   ]
  },
  {
   "cell_type": "code",
   "execution_count": 23,
   "id": "8fc54c6f",
   "metadata": {
    "collapsed": true
   },
   "outputs": [
    {
     "name": "stdout",
     "output_type": "stream",
     "text": [
      "[0.5488135  0.71518937 0.60276338 0.54488318 0.4236548 ]\n",
      "[0.64589411 0.43758721 0.891773   0.96366276 0.38344152]\n",
      "[0.79172504 0.52889492 0.56804456 0.92559664 0.07103606]\n",
      "[0.0871293  0.0202184  0.83261985 0.77815675 0.87001215]\n",
      "[0.97861834 0.79915856 0.46147936 0.78052918 0.11827443]\n",
      "[0.5488135  0.71518937 0.60276338 0.54488318 0.4236548 ]\n",
      "[0.5488135  0.71518937 0.60276338 0.54488318 0.4236548 ]\n",
      "[0.5488135  0.71518937 0.60276338 0.54488318 0.4236548 ]\n",
      "[0.5488135  0.71518937 0.60276338 0.54488318 0.4236548 ]\n",
      "[0.5488135  0.71518937 0.60276338 0.54488318 0.4236548 ]\n"
     ]
    }
   ],
   "source": [
    "'''\n",
    "    随机种子，固定随机数的输出结果——方便复现\n",
    "        好像每次随机之前都要加,只管最接近的那一句随机指令\n",
    "'''\n",
    "np.random.seed(0)\n",
    "for i in range(5):\n",
    "    print(np.random.rand(5))\n",
    "\n",
    "for i in range(5):\n",
    "    np.random.seed(0)\n",
    "    print(np.random.rand(5))"
   ]
  },
  {
   "cell_type": "markdown",
   "id": "c33ccb20",
   "metadata": {},
   "source": [
    "### np数组的变形与合并"
   ]
  },
  {
   "cell_type": "code",
   "execution_count": 24,
   "id": "b6f27c23",
   "metadata": {
    "collapsed": true
   },
   "outputs": [
    {
     "name": "stdout",
     "output_type": "stream",
     "text": [
      "[[1 1 1]\n",
      " [1 1 1]\n",
      " [2 2 2]\n",
      " [2 2 2]\n",
      " [2 2 2]\n",
      " [2 2 2]\n",
      " [2 2 2]]\n",
      "[[1 1 1 2 2 2 2 2]\n",
      " [1 1 1 2 2 2 2 2]]\n",
      "[[1 2 2 2]\n",
      " [1 2 2 2]\n",
      " [1 2 2 2]\n",
      " [1 2 2 2]\n",
      " [1 2 2 2]\n",
      " [1 2 2 2]\n",
      " [1 2 2 2]\n",
      " [1 2 2 2]\n",
      " [1 2 2 2]\n",
      " [1 2 2 2]]\n",
      "[[1 2 2]\n",
      " [1 2 2]\n",
      " [1 2 2]]\n"
     ]
    }
   ],
   "source": [
    "'''\n",
    "    转置.T\n",
    "    合并：np.r_,np.c_[]\n",
    "        np.r_:上下合并，行合并\n",
    "        np.c_:左右合并，列合并\n",
    "    注意：后面用中括号\n",
    "    注意：一维数组看作列向量，只能用.c_\n",
    "'''\n",
    "print(\n",
    "    np.r_[np.full((2,3),1), np.full((5,3),2)]\n",
    ")\n",
    "\n",
    "print(\n",
    "    np.c_[np.full((2,3),1), np.full((2,5),2)]\n",
    ")\n",
    "\n",
    "print(\n",
    "    np.c_[np.full(10,1), np.full((10,3),[2,2,2])] # 一维数组看作一列，不是一行\n",
    ")\n",
    "\n",
    "print(\n",
    "    np.c_[np.array([1,1,1]), np.full((3,2),2)]\n",
    ")"
   ]
  },
  {
   "cell_type": "code",
   "execution_count": 40,
   "id": "45ce9f68",
   "metadata": {
    "collapsed": true
   },
   "outputs": [
    {
     "name": "stdout",
     "output_type": "stream",
     "text": [
      "[[1 2]\n",
      " [1 2]]\n",
      "[[1 2]\n",
      " [1 2]]\n",
      "[1 1 2 2 2 2 2]\n"
     ]
    }
   ],
   "source": [
    "'''\n",
    "    一维和多维只能列合并\n",
    "    一维和一维随便合[但也要求长度一样才能列合]【一维随便行合】\n",
    "    (2,1)也算多维\n",
    "'''\n",
    "# np.r_[np.array([1,1]), np.full((2,1), 2)] #一维和只能列合并\n",
    "print(\n",
    "    np.c_[np.array([1,1]), np.full((2,1), 2)]\n",
    ")\n",
    "\n",
    "print(\n",
    "    np.c_[np.array([1,1]),np.full(2,2)]\n",
    ")\n",
    "\n",
    "print(\n",
    "    np.r_[np.array([1,1]),np.full(5,2)]\n",
    ")"
   ]
  },
  {
   "cell_type": "code",
   "execution_count": 58,
   "id": "fa7299a8",
   "metadata": {
    "collapsed": true
   },
   "outputs": [
    {
     "name": "stdout",
     "output_type": "stream",
     "text": [
      "[[0 1 2 3]\n",
      " [4 5 6 7]]\n",
      "[[0 1]\n",
      " [2 3]\n",
      " [4 5]\n",
      " [6 7]]\n",
      "[[0 2]\n",
      " [4 6]\n",
      " [1 3]\n",
      " [5 7]]\n",
      "[[0 2]\n",
      " [4 6]\n",
      " [1 3]\n",
      " [5 7]]\n",
      "[[1.]\n",
      " [1.]\n",
      " [1.]]\n",
      "[1. 1. 1.]\n"
     ]
    }
   ],
   "source": [
    "'''\n",
    "    维度变换：.reshape\n",
    "        order = 'C' ——按行读取和填充，常规理解\n",
    "        order = 'F' ——按列读取！和填充！，一列不够跳一列读取\n",
    "        \n",
    "    常用操作，n*1大小转为一维矩阵：\n",
    "        .reshape(-1)\n",
    "        \n",
    "    注意:reshape允许一个维度空缺，填-1即可\n",
    "'''\n",
    "target = np.arange(8).reshape(2,4)\n",
    "print(\n",
    "    target\n",
    ")\n",
    "\n",
    "print(\n",
    "    target.reshape((4,2),order = 'C') # 按行读取，常规思路\n",
    ")\n",
    "\n",
    "print(\n",
    "    target.reshape((4,2),order = 'F') # 按列读取，非常规\n",
    ")\n",
    "\n",
    "print(\n",
    "    target.reshape((4,-1),order = 'F') #填充-1\n",
    ")\n",
    "\n",
    "ones = np.ones((3,1))\n",
    "print(\n",
    "    ones\n",
    ")\n",
    "print(\n",
    "    ones.reshape(-1) # 常用转一维！！！\n",
    ")"
   ]
  },
  {
   "cell_type": "markdown",
   "id": "8e444403",
   "metadata": {},
   "source": [
    "### np数组的切片和索引"
   ]
  },
  {
   "cell_type": "code",
   "execution_count": 76,
   "id": "f65ea83a",
   "metadata": {
    "collapsed": true
   },
   "outputs": [
    {
     "name": "stdout",
     "output_type": "stream",
     "text": [
      "[[0 1 2]\n",
      " [3 4 5]\n",
      " [6 7 8]]\n",
      "[[0 1]\n",
      " [3 4]]\n",
      "[[0 2]\n",
      " [3 5]]\n",
      "[[0 2]\n",
      " [6 8]]\n",
      "[[3 5]\n",
      " [6 8]]\n",
      "[0 2 4 6 8]\n"
     ]
    }
   ],
   "source": [
    "'''\n",
    "    支持slice类型的[start:end:step]\n",
    "        slice切片应该就是用:切片\n",
    "    布尔索引np.ix_\n",
    "        可以用来输出指定条件的切片！！！！\n",
    "        此时不能用slice冒号切片\n",
    "        但是能用[0,1]取出固定行列\n",
    "        当数组维度为 1 维时，可以直接进行布尔索引，而无需 np.ix_ ：\n",
    "'''\n",
    "target = np.arange(9).reshape(3,3)\n",
    "print(\n",
    "    target\n",
    ")\n",
    "\n",
    "print(\n",
    "   target[:-1,0:2]\n",
    ")\n",
    "\n",
    "print(\n",
    "    target[:-1,[0,2]] # [0,2]是0列和2列，0:2是0-2列\n",
    ")\n",
    "\n",
    "print(\n",
    "    target[np.ix_([True,False,True],[True,False,True])] # 布尔索引，对指定条件切片\n",
    ")\n",
    "\n",
    "print(\n",
    "    target[np.ix_([1,2], [True, False, True])] \n",
    ")\n",
    "\n",
    "new = target.reshape(-1)\n",
    "print(\n",
    "    new[new%2 == 0] # 对一维数组直接用布尔索引输出对应条件\n",
    ")"
   ]
  },
  {
   "cell_type": "markdown",
   "id": "d2abf366",
   "metadata": {},
   "source": [
    "### 常用函数"
   ]
  },
  {
   "cell_type": "code",
   "execution_count": 107,
   "id": "86ab9226",
   "metadata": {},
   "outputs": [
    {
     "name": "stdout",
     "output_type": "stream",
     "text": [
      "[6 2 6 4 6 6]\n",
      "(array([0, 1, 2, 3, 4], dtype=int64),)\n",
      "1\n",
      "True\n",
      "False\n",
      "[1 2 6]\n",
      "[1 3 6]\n",
      "[1 1]\n"
     ]
    }
   ],
   "source": [
    "'''\n",
    "    常用函数：\n",
    "        np.where()\n",
    "        np.nonzero()非0数的索引\n",
    "        array.argmax()最大\\最小值的索引\n",
    "        array.argmin()\n",
    "        array.any()至少有一个True或者非0，返回True\n",
    "        array.all()全是Ture或者非0\n",
    "        array.cumprod()\n",
    "        array.cumsum()\n",
    "        np.diff()和前一个数字做差，返回少一位的数组\n",
    "        np.nan\n",
    "    \n",
    "    统计函数:\n",
    "        array.max\n",
    "        array.min\n",
    "        array.mean\n",
    "        array.median\n",
    "        array.std\n",
    "        array.var\n",
    "        array.sum\n",
    "        np.quantile(target,q)\n",
    "        np.cov(target1,target2)\n",
    "        np.corrcoef(target1, target2)\n",
    "        \n",
    "        二维情况下在()中加0，1可以控制对列行计算统计指标\n",
    "            **注意0时列\n",
    "    略过缺失值：\n",
    "        np.nanmax()\n",
    "        np.nanquantile(target,q)\n",
    "        \n",
    "'''\n",
    "'''\n",
    "    np.where(a>0,a, 5) 条件，True时填充值（数or数组的对应位置），False填充值。条件函数，指定满足条件与不满足条件位置对应的填充值\n",
    "    \n",
    "'''\n",
    "\n",
    "a = np.array([-1,1,-1,1, -1, 0])\n",
    "b = np.array([1,2,3,4,5,6])\n",
    "print(\n",
    "    np.where(a>0, b, 6) # 对应位置为 True 时填充 b 对应元素，否则填充 5\n",
    ")\n",
    "\n",
    "\n",
    "print(\n",
    "    np.nonzero(a)\n",
    ")\n",
    "print(\n",
    "    np.argmax(a) # 注意只能返回第一个索引\n",
    ")\n",
    "\n",
    "a = np.array([0,1])\n",
    "print(\n",
    "    a.any()\n",
    ")\n",
    "\n",
    "print(\n",
    "    a.all() #可以用来检测有没有0\n",
    ")\n",
    "\n",
    "a = np.array([1,2,3])\n",
    "\n",
    "print(\n",
    "    a.cumprod()#累乘\n",
    ")\n",
    "print(\n",
    "    a.cumsum()#累加\n",
    ")\n",
    "print(\n",
    "    np.diff(a)\n",
    ")"
   ]
  },
  {
   "cell_type": "code",
   "execution_count": 32,
   "id": "7c0dc5b1",
   "metadata": {
    "collapsed": true
   },
   "outputs": [
    {
     "name": "stdout",
     "output_type": "stream",
     "text": [
      "最大值、分位数-----\n",
      "4\n",
      "2.0\n",
      "\n",
      "略过缺失值------\n",
      "[ 1.  2. nan]\n",
      "2.0\n",
      "1.5\n",
      "\n",
      "协方差、相关系数------\n",
      "[[ 11.66666667 -16.66666667]\n",
      " [-16.66666667  38.66666667]]\n",
      "[[ 1.         -0.78470603]\n",
      " [-0.78470603  1.        ]]\n",
      "\n",
      "二维数组用axis参数控制计算行或者列的统计指标,0是列，1是行----------\n",
      "[[1 2 3]\n",
      " [4 5 6]\n",
      " [7 8 9]]\n",
      "[12 15 18]\n",
      "[ 6 15 24]\n"
     ]
    }
   ],
   "source": [
    "'''\n",
    "    统计函数\n",
    "'''\n",
    "print('最大值、分位数-----')\n",
    "target = np.arange(5)\n",
    "print(\n",
    "    target.max()\n",
    ")\n",
    "\n",
    "print(\n",
    "    np.quantile(target, 0.5) # 分位数\n",
    ")\n",
    "\n",
    "print('')\n",
    "print('略过缺失值------')\n",
    "\n",
    "target = np.array([1, 2, np.nan])\n",
    "print(target)\n",
    "\n",
    "print(\n",
    "    np.nanmax(target) # 略过缺失值的最大值\n",
    ")\n",
    "\n",
    "print(\n",
    "    np.nanquantile(target, 0.5) # 略过缺失值的分位数\n",
    ")\n",
    "print('')\n",
    "print('协方差、相关系数------')\n",
    "\n",
    "target1 = np.array([1,3,5,9])\n",
    "target2 = np.array([1,5,3,-9])\n",
    "\n",
    "print(\n",
    "    np.cov(target1, target2)\n",
    ")\n",
    "\n",
    "print(\n",
    "    np.corrcoef(target1, target2)\n",
    ")\n",
    "print('')\n",
    "print('二维数组用axis参数控制计算行或者列的统计指标,0是列，1是行----------')\n",
    "\n",
    "target = np.arange(1, 10).reshape(3,-1)\n",
    "print(\n",
    "    target\n",
    ")\n",
    "print(\n",
    "    target.sum(0)\n",
    ")\n",
    "\n",
    "print(\n",
    "    target.sum(1)\n",
    ")"
   ]
  },
  {
   "cell_type": "markdown",
   "id": "eaa60347",
   "metadata": {},
   "source": [
    "### 广播机制\n",
    "\n",
    "用于处理两个不同维度数组之间的操作\n",
    "\n",
    "【a】标量和数组的操作\n",
    "\n",
    "当一个标量和数组进行运算时，标量会自动把大小扩充为数组大小，之后进行逐元素操作："
   ]
  },
  {
   "cell_type": "code",
   "execution_count": 35,
   "id": "0d9b125b",
   "metadata": {},
   "outputs": [],
   "source": [
    "res = 3 * np.ones((2,2)) + 1"
   ]
  },
  {
   "cell_type": "code",
   "execution_count": 36,
   "id": "e6669c69",
   "metadata": {},
   "outputs": [
    {
     "data": {
      "text/plain": [
       "array([[4., 4.],\n",
       "       [4., 4.]])"
      ]
     },
     "execution_count": 36,
     "metadata": {},
     "output_type": "execute_result"
    }
   ],
   "source": [
    "res"
   ]
  },
  {
   "cell_type": "code",
   "execution_count": 38,
   "id": "55b2e8a0",
   "metadata": {},
   "outputs": [],
   "source": [
    "res = 1 / res"
   ]
  },
  {
   "cell_type": "code",
   "execution_count": 39,
   "id": "c972074f",
   "metadata": {},
   "outputs": [
    {
     "data": {
      "text/plain": [
       "array([[4., 4.],\n",
       "       [4., 4.]])"
      ]
     },
     "execution_count": 39,
     "metadata": {},
     "output_type": "execute_result"
    }
   ],
   "source": [
    "res"
   ]
  },
  {
   "cell_type": "markdown",
   "id": "10fcc8e7",
   "metadata": {},
   "source": [
    "【b】二维数组之间的操作\n",
    "\n",
    "维度完全一致（或一行、一列的二维数组——扩充大小）\n",
    "\n",
    "当两个数组维度完全一致时，使用对应元素的操作，否则会报错，除非其中的某个数组的维度是 m × 1 或者1 × n ，那么会扩充其具有 1 的维度为另一个数组对应维度大小。例如，1 × 2 数组和 3 × 2 数组做逐元素运算时会把第一个数组扩充为 3 × 2，扩充时的对应数值进行赋值。但是，需要注意的是，如果第一个数组的维度是 1 × 3 ，那么由于在第二维上的大小不匹配且不为 1 ，此时报错。"
   ]
  },
  {
   "cell_type": "code",
   "execution_count": 40,
   "id": "c32e95e2",
   "metadata": {},
   "outputs": [],
   "source": [
    "res = np.ones((3,2))"
   ]
  },
  {
   "cell_type": "code",
   "execution_count": 41,
   "id": "5f5dd2e3",
   "metadata": {},
   "outputs": [
    {
     "data": {
      "text/plain": [
       "array([[1., 1.],\n",
       "       [1., 1.],\n",
       "       [1., 1.]])"
      ]
     },
     "execution_count": 41,
     "metadata": {},
     "output_type": "execute_result"
    }
   ],
   "source": [
    "res"
   ]
  },
  {
   "cell_type": "code",
   "execution_count": 50,
   "id": "16ddc0b1",
   "metadata": {},
   "outputs": [
    {
     "data": {
      "text/plain": [
       "array([[2, 3]])"
      ]
     },
     "execution_count": 50,
     "metadata": {},
     "output_type": "execute_result"
    }
   ],
   "source": [
    "np.array([[2,3]])"
   ]
  },
  {
   "cell_type": "code",
   "execution_count": 43,
   "id": "852dcdf6",
   "metadata": {},
   "outputs": [
    {
     "data": {
      "text/plain": [
       "array([[2., 3.],\n",
       "       [2., 3.],\n",
       "       [2., 3.]])"
      ]
     },
     "execution_count": 43,
     "metadata": {},
     "output_type": "execute_result"
    }
   ],
   "source": [
    "res * np.array([[2,3]]) # 两个中括号是一行n列"
   ]
  },
  {
   "cell_type": "code",
   "execution_count": 57,
   "id": "15178e25",
   "metadata": {},
   "outputs": [
    {
     "data": {
      "text/plain": [
       "array([[2., 2.],\n",
       "       [3., 3.],\n",
       "       [4., 4.]])"
      ]
     },
     "execution_count": 57,
     "metadata": {},
     "output_type": "execute_result"
    }
   ],
   "source": [
    "res * np.array([[2],[3],[4]])"
   ]
  },
  {
   "cell_type": "code",
   "execution_count": 59,
   "id": "ed636138",
   "metadata": {},
   "outputs": [
    {
     "data": {
      "text/plain": [
       "array([[2., 2.],\n",
       "       [2., 2.],\n",
       "       [2., 2.]])"
      ]
     },
     "execution_count": 59,
     "metadata": {},
     "output_type": "execute_result"
    }
   ],
   "source": [
    "res * np.array([[2]]) #1*1的二维数组，貌似等价于乘一个标量"
   ]
  },
  {
   "cell_type": "markdown",
   "id": "836d8f69",
   "metadata": {},
   "source": [
    "一维数组与二维数组的操作\n",
    "\n",
    "一维数组看作**一行**二维数组"
   ]
  },
  {
   "cell_type": "code",
   "execution_count": 64,
   "id": "cea3bae6",
   "metadata": {
    "scrolled": true
   },
   "outputs": [
    {
     "data": {
      "text/plain": [
       "array([[2., 2., 2.],\n",
       "       [2., 2., 2.]])"
      ]
     },
     "execution_count": 64,
     "metadata": {},
     "output_type": "execute_result"
    }
   ],
   "source": [
    "np.ones(3) + np.ones((2,3))"
   ]
  },
  {
   "cell_type": "code",
   "execution_count": 65,
   "id": "8eb00bda",
   "metadata": {},
   "outputs": [
    {
     "data": {
      "text/plain": [
       "array([[2., 2., 2.],\n",
       "       [2., 2., 2.]])"
      ]
     },
     "execution_count": 65,
     "metadata": {},
     "output_type": "execute_result"
    }
   ],
   "source": [
    "np.ones(3) + np.ones((2,1)) # 二维数组是1的那一维会接着复制扩充"
   ]
  },
  {
   "cell_type": "code",
   "execution_count": 66,
   "id": "dfa73ad5",
   "metadata": {},
   "outputs": [
    {
     "data": {
      "text/plain": [
       "array([[2., 2., 2.],\n",
       "       [2., 2., 2.]])"
      ]
     },
     "execution_count": 66,
     "metadata": {},
     "output_type": "execute_result"
    }
   ],
   "source": [
    "np.ones(1) + np.ones((2,3))"
   ]
  },
  {
   "cell_type": "markdown",
   "id": "c0ddcd2f",
   "metadata": {},
   "source": [
    "### 向量与矩阵的计算\n",
    "\n",
    "【a】向量内积：a.dot(b)"
   ]
  },
  {
   "cell_type": "code",
   "execution_count": 67,
   "id": "25f92b3c",
   "metadata": {},
   "outputs": [],
   "source": [
    "a = np.array([1,2,3])\n",
    "b = a.copy()"
   ]
  },
  {
   "cell_type": "code",
   "execution_count": 69,
   "id": "e66ae337",
   "metadata": {},
   "outputs": [
    {
     "data": {
      "text/plain": [
       "14"
      ]
     },
     "execution_count": 69,
     "metadata": {},
     "output_type": "execute_result"
    }
   ],
   "source": [
    "a.dot(b)"
   ]
  },
  {
   "attachments": {
    "image.png": {
     "image/png": "[encoded data removed]"
    }
   },
   "cell_type": "markdown",
   "id": "f1bb8ee8",
   "metadata": {},
   "source": [
    "【b】向量范数和矩阵范数：np.linalg.norm(目标，ord)\n",
    "\n",
    "用到再说吧\n",
    "\n",
    "矩阵/向量范数可选值：\n",
    "![image.png](attachment:image.png)"
   ]
  },
  {
   "cell_type": "code",
   "execution_count": 70,
   "id": "925996fc",
   "metadata": {},
   "outputs": [],
   "source": [
    "matrix_target = np.arange(4).reshape(-1,2)"
   ]
  },
  {
   "cell_type": "code",
   "execution_count": 71,
   "id": "bcec05db",
   "metadata": {},
   "outputs": [
    {
     "data": {
      "text/plain": [
       "array([[0, 1],\n",
       "       [2, 3]])"
      ]
     },
     "execution_count": 71,
     "metadata": {},
     "output_type": "execute_result"
    }
   ],
   "source": [
    "matrix_target"
   ]
  },
  {
   "cell_type": "code",
   "execution_count": 72,
   "id": "e5862fb4",
   "metadata": {},
   "outputs": [
    {
     "data": {
      "text/plain": [
       "3.7416573867739413"
      ]
     },
     "execution_count": 72,
     "metadata": {},
     "output_type": "execute_result"
    }
   ],
   "source": [
    "np.linalg.norm(matrix_target, 'fro')"
   ]
  },
  {
   "cell_type": "code",
   "execution_count": 73,
   "id": "e457a78c",
   "metadata": {},
   "outputs": [
    {
     "data": {
      "text/plain": [
       "5.0"
      ]
     },
     "execution_count": 73,
     "metadata": {},
     "output_type": "execute_result"
    }
   ],
   "source": [
    "np.linalg.norm(matrix_target, np.inf)"
   ]
  },
  {
   "cell_type": "code",
   "execution_count": 74,
   "id": "9cec3b48",
   "metadata": {},
   "outputs": [
    {
     "data": {
      "text/plain": [
       "3.702459173643833"
      ]
     },
     "execution_count": 74,
     "metadata": {},
     "output_type": "execute_result"
    }
   ],
   "source": [
    "np.linalg.norm(matrix_target, 2)"
   ]
  },
  {
   "cell_type": "code",
   "execution_count": 75,
   "id": "ae294ac9",
   "metadata": {},
   "outputs": [],
   "source": [
    "vector_target = np.arange(4)"
   ]
  },
  {
   "cell_type": "code",
   "execution_count": 76,
   "id": "41c45adc",
   "metadata": {},
   "outputs": [
    {
     "data": {
      "text/plain": [
       "array([0, 1, 2, 3])"
      ]
     },
     "execution_count": 76,
     "metadata": {},
     "output_type": "execute_result"
    }
   ],
   "source": [
    "vector_target"
   ]
  },
  {
   "cell_type": "code",
   "execution_count": 77,
   "id": "48253edf",
   "metadata": {},
   "outputs": [
    {
     "data": {
      "text/plain": [
       "3.7416573867739413"
      ]
     },
     "execution_count": 77,
     "metadata": {},
     "output_type": "execute_result"
    }
   ],
   "source": [
    "np.linalg.norm(vector_target, 2)"
   ]
  },
  {
   "cell_type": "code",
   "execution_count": 78,
   "id": "d00c650b",
   "metadata": {},
   "outputs": [
    {
     "data": {
      "text/plain": [
       "3.3019272488946263"
      ]
     },
     "execution_count": 78,
     "metadata": {},
     "output_type": "execute_result"
    }
   ],
   "source": [
    "np.linalg.norm(vector_target, 3)"
   ]
  },
  {
   "cell_type": "markdown",
   "id": "012b8b70",
   "metadata": {},
   "source": [
    "【c】矩阵乘法：@"
   ]
  },
  {
   "cell_type": "code",
   "execution_count": 79,
   "id": "2fe718bb",
   "metadata": {},
   "outputs": [],
   "source": [
    "a = np.arange(4).reshape(-1, 2)"
   ]
  },
  {
   "cell_type": "code",
   "execution_count": 80,
   "id": "5ce9e09f",
   "metadata": {},
   "outputs": [
    {
     "data": {
      "text/plain": [
       "array([[0, 1],\n",
       "       [2, 3]])"
      ]
     },
     "execution_count": 80,
     "metadata": {},
     "output_type": "execute_result"
    }
   ],
   "source": [
    "a"
   ]
  },
  {
   "cell_type": "code",
   "execution_count": 81,
   "id": "df5c0fbd",
   "metadata": {},
   "outputs": [],
   "source": [
    "b = np.arange(-4, 0).reshape(-1, 2)"
   ]
  },
  {
   "cell_type": "code",
   "execution_count": 82,
   "id": "76d62097",
   "metadata": {},
   "outputs": [
    {
     "data": {
      "text/plain": [
       "array([[-4, -3],\n",
       "       [-2, -1]])"
      ]
     },
     "execution_count": 82,
     "metadata": {},
     "output_type": "execute_result"
    }
   ],
   "source": [
    "b"
   ]
  },
  {
   "cell_type": "code",
   "execution_count": 83,
   "id": "e282cded",
   "metadata": {},
   "outputs": [
    {
     "data": {
      "text/plain": [
       "array([[ -2,  -1],\n",
       "       [-14,  -9]])"
      ]
     },
     "execution_count": 83,
     "metadata": {},
     "output_type": "execute_result"
    }
   ],
   "source": [
    "a@b"
   ]
  },
  {
   "cell_type": "markdown",
   "id": "d45a462b",
   "metadata": {},
   "source": [
    "## 练习"
   ]
  },
  {
   "cell_type": "markdown",
   "id": "2b30b461",
   "metadata": {},
   "source": [
    "### Ex1：利用列表推导式写矩阵乘法\n",
    "\n",
    "一般的矩阵乘法根据公式，可以由三重循环写出："
   ]
  },
  {
   "cell_type": "code",
   "execution_count": 84,
   "id": "9262d162",
   "metadata": {},
   "outputs": [],
   "source": [
    "M1 = np.random.rand(2,3)"
   ]
  },
  {
   "cell_type": "code",
   "execution_count": 95,
   "id": "65f0ff8f",
   "metadata": {},
   "outputs": [
    {
     "data": {
      "text/plain": [
       "array([[0.67598548, 0.14840672, 0.01600539],\n",
       "       [0.77509862, 0.26490335, 0.93896989]])"
      ]
     },
     "execution_count": 95,
     "metadata": {},
     "output_type": "execute_result"
    }
   ],
   "source": [
    "M1"
   ]
  },
  {
   "cell_type": "code",
   "execution_count": 85,
   "id": "dc7a7e27",
   "metadata": {},
   "outputs": [],
   "source": [
    "M2 = np.random.rand(3,4)"
   ]
  },
  {
   "cell_type": "code",
   "execution_count": 96,
   "id": "39b7d7fe",
   "metadata": {},
   "outputs": [
    {
     "data": {
      "text/plain": [
       "array([[0.56351263, 0.17736424, 0.83112052, 0.75670853],\n",
       "       [0.50761241, 0.79857984, 0.52189172, 0.21333453],\n",
       "       [0.34398893, 0.64954098, 0.7408383 , 0.40476106]])"
      ]
     },
     "execution_count": 96,
     "metadata": {},
     "output_type": "execute_result"
    }
   ],
   "source": [
    "M2"
   ]
  },
  {
   "cell_type": "code",
   "execution_count": 92,
   "id": "6c40d1fa",
   "metadata": {},
   "outputs": [],
   "source": [
    "res = np.empty((M1.shape[0], M2.shape[1]))"
   ]
  },
  {
   "cell_type": "code",
   "execution_count": 94,
   "id": "88c7bfa2",
   "metadata": {},
   "outputs": [
    {
     "data": {
      "text/plain": [
       "array([[3.5, 1.5, 0.5, 4.5],\n",
       "       [1. , 5. , 3. , 9. ]])"
      ]
     },
     "execution_count": 94,
     "metadata": {},
     "output_type": "execute_result"
    }
   ],
   "source": [
    "res"
   ]
  },
  {
   "cell_type": "code",
   "execution_count": 152,
   "id": "2749500f",
   "metadata": {},
   "outputs": [],
   "source": [
    "for i in range(M1.shape[0]):\n",
    "    for j in range(M2.shape[1]):\n",
    "        item = 0\n",
    "        for k in range(M1.shape[1]):\n",
    "            item += M1[i,k] * M2[k,j]\n",
    "        res[i][j] = item"
   ]
  },
  {
   "cell_type": "code",
   "execution_count": 153,
   "id": "332de92f",
   "metadata": {},
   "outputs": [
    {
     "data": {
      "text/plain": [
       "True"
      ]
     },
     "execution_count": 153,
     "metadata": {},
     "output_type": "execute_result"
    }
   ],
   "source": [
    "((M1@M2 - res) < 1e-15).all()"
   ]
  },
  {
   "cell_type": "markdown",
   "id": "0398f6f7",
   "metadata": {},
   "source": [
    "解："
   ]
  },
  {
   "cell_type": "markdown",
   "id": "6faaabc8",
   "metadata": {},
   "source": [
    "这么牛逼，完了可以再看看"
   ]
  },
  {
   "cell_type": "code",
   "execution_count": 157,
   "id": "7b9ff0d7",
   "metadata": {},
   "outputs": [],
   "source": [
    "res = [[[sum(M1[i,k] * M2[k,j] for k in range(M1.shape[1]))]for j in range(M2.shape[1])]for i in range(M1.shape[0])]"
   ]
  },
  {
   "cell_type": "markdown",
   "id": "b7bbd18f",
   "metadata": {},
   "source": [
    "### 未做Ex2：更新矩阵 "
   ]
  },
  {
   "cell_type": "markdown",
   "id": "fbf45a22",
   "metadata": {},
   "source": [
    "### 未作Ex3：卡方统计量"
   ]
  },
  {
   "cell_type": "markdown",
   "id": "3df71be8",
   "metadata": {},
   "source": [
    "### 未作Ex4：改进矩阵计算的性能"
   ]
  },
  {
   "cell_type": "markdown",
   "id": "c9f962f0",
   "metadata": {},
   "source": [
    "### 未作Ex5：连续整数的最大长度"
   ]
  },
  {
   "cell_type": "markdown",
   "id": "ec168ffb",
   "metadata": {},
   "source": [
    "# 没看懂的try方法"
   ]
  },
  {
   "cell_type": "code",
   "execution_count": 28,
   "id": "af1e0961",
   "metadata": {
    "collapsed": true
   },
   "outputs": [
    {
     "data": {
      "text/plain": [
       "ValueError('all the input arrays must have same number of dimensions, but the array at index 0 has 1 dimension(s) and the array at index 1 has 2 dimension(s)')"
      ]
     },
     "execution_count": 28,
     "metadata": {},
     "output_type": "execute_result"
    }
   ],
   "source": [
    "try:\n",
    "    np.r_[np.array([0,0]),np.zeros((2,1))]\n",
    "except Exception as e:\n",
    "    Err_Msg = e\n",
    "\n",
    "Err_Msg"
   ]
  }
 ],
 "metadata": {
  "kernelspec": {
   "display_name": "Python 3",
   "language": "python",
   "name": "python3"
  },
  "language_info": {
   "codemirror_mode": {
    "name": "ipython",
    "version": 3
   },
   "file_extension": ".py",
   "mimetype": "text/x-python",
   "name": "python",
   "nbconvert_exporter": "python",
   "pygments_lexer": "ipython3",
   "version": "3.8.8"
  },
  "toc": {
   "base_numbering": 1,
   "nav_menu": {},
   "number_sections": true,
   "sideBar": true,
   "skip_h1_title": false,
   "title_cell": "Table of Contents",
   "title_sidebar": "Contents",
   "toc_cell": false,
   "toc_position": {
    "height": "calc(100% - 180px)",
    "left": "10px",
    "top": "150px",
    "width": "165px"
   },
   "toc_section_display": true,
   "toc_window_display": false
  },
  "varInspector": {
   "cols": {
    "lenName": 16,
    "lenType": 16,
    "lenVar": 40
   },
   "kernels_config": {
    "python": {
     "delete_cmd_postfix": "",
     "delete_cmd_prefix": "del ",
     "library": "var_list.py",
     "varRefreshCmd": "print(var_dic_list())"
    },
    "r": {
     "delete_cmd_postfix": ") ",
     "delete_cmd_prefix": "rm(",
     "library": "var_list.r",
     "varRefreshCmd": "cat(var_dic_list()) "
    }
   },
   "position": {
    "height": "239.4px",
    "left": "240.2px",
    "right": "20px",
    "top": "45px",
    "width": "350px"
   },
   "types_to_exclude": [
    "module",
    "function",
    "builtin_function_or_method",
    "instance",
    "_Feature"
   ],
   "window_display": false
  }
 },
 "nbformat": 4,
 "nbformat_minor": 5
}
